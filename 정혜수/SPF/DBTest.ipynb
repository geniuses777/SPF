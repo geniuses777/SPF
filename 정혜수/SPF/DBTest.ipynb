{
 "cells": [
  {
   "cell_type": "code",
   "execution_count": 2,
   "metadata": {
    "collapsed": true
   },
   "outputs": [],
   "source": [
    "import pymysql"
   ]
  },
  {
   "cell_type": "code",
   "execution_count": 12,
   "metadata": {
    "collapsed": true
   },
   "outputs": [],
   "source": [
    "# \n",
    "# DB테이블 값 조회 (SELECT)\n",
    "#\n",
    "# MySQL Connection 연결\n",
    "connection = pymysql.connect(host='222.122.86.187', port=3306, user='geniuses777', password='stock7840',\n",
    "                       db='geniuses777', charset='utf8')\n",
    " \n",
    "try :\n",
    "    with connection.cursor() as cursor :       # Connection 으로부터 Cursor 생성\n",
    "        sql = \"select * from stock_hye\"           # SQL문 실행\n",
    "        cursor.execute(\"set names utf8\")\n",
    "        cursor.execute(sql)\n",
    "        result = cursor.fetchall()            # 데이터 fetch\n",
    "        \n",
    "        for i in result :\n",
    "            print(i)\n",
    "finally :\n",
    "    # Connection 닫기\n",
    "    connection.close()"
   ]
  },
  {
   "cell_type": "code",
   "execution_count": 23,
   "metadata": {},
   "outputs": [
    {
     "name": "stdout",
     "output_type": "stream",
     "text": [
      "0\n"
     ]
    }
   ],
   "source": [
    "# \n",
    "# DB테이블 값 삽입 (INSERT)\n",
    "#\n",
    "# MySQL Connection 연결\n",
    "connection = pymysql.connect(host='222.122.86.187', port=3306, user='geniuses777', password='stock7840',\n",
    "                       db='geniuses777', charset='utf8')\n",
    "try:\n",
    "    with connection.cursor() as cursor:\n",
    "        sql = 'INSERT INTO stock_hye (company_name, stock_price) VALUES (%s, %s) ON DUPLICATE KEY UPDATE stock_price = VALUES(stock_price)'\n",
    "        cursor.execute(sql, ('samsung', 1200))          # 넣으려는 값\n",
    "        sql = 'INSERT INTO stock_hye (company_name, stock_price) VALUES (%s, %s) ON DUPLICATE KEY UPDATE stock_price = VALUES(stock_price)'\n",
    "        cursor.execute(sql, ('kakao', 12000))          # 넣으려는 값\n",
    "    connection.commit()\n",
    "    print(cursor.lastrowid)\n",
    "    # 1 (last insert id)\n",
    "    \n",
    "finally:\n",
    "    connection.close()"
   ]
  },
  {
   "cell_type": "code",
   "execution_count": 19,
   "metadata": {},
   "outputs": [
    {
     "name": "stdout",
     "output_type": "stream",
     "text": [
      "C:\\source\\SPF\n"
     ]
    },
    {
     "data": {
      "image/png": "[encoded data removed]",
      "text/plain": [
       "<Figure size 432x288 with 1 Axes>"
      ]
     },
     "metadata": {},
     "output_type": "display_data"
    }
   ],
   "source": [
    "import pandas as pd\n",
    "import matplotlib.pyplot as plt\n",
    "import settings\n",
    "\n",
    "x = [1,2,3]\n",
    "y = [6,4,8]\n",
    "\n",
    "#plt.figure()   \n",
    "plt.plot(x, y)\n",
    "plt.xlabel('Numbers')\n",
    "plt.ylabel('Counting')\n",
    "\n",
    "plt.title('Practice')\n",
    "\n",
    "print(settings.BASE_DIR)\n",
    "\n",
    "plt.savefig(\"./chart_picture/samsung.png\",dpi=300)\n",
    "plt.show()"
   ]
  },
  {
   "cell_type": "code",
   "execution_count": 71,
   "metadata": {},
   "outputs": [
    {
     "name": "stdout",
     "output_type": "stream",
     "text": [
      "14\n"
     ]
    }
   ],
   "source": [
    "import pymysql\n",
    "\n",
    "#\n",
    "# 사진 데이터 binary형식으로 바꿔서 DB에 INSERT\n",
    "#\n",
    "def convertToBinaryData(filename):\n",
    "    #Convert digital data to binary format\n",
    "    with open(filename, 'rb') as file:\n",
    "        binaryData = file.read()\n",
    "    return binaryData\n",
    "\n",
    "connection = pymysql.connect(host='222.122.86.187', port=3306, user='geniuses777', password='stock7840',\n",
    "                       db='geniuses777', charset='utf8')\n",
    "\n",
    "try:\n",
    "    with connection.cursor() as cursor:\n",
    "        sql = 'INSERT INTO stock_hye (company_name, stock_price, image) VALUES (%s, %s, %s) ON DUPLICATE KEY UPDATE stock_price = VALUES(stock_price), image = VALUES(image)'\n",
    "        image = convertToBinaryData(\"C:\\source\\SPF\\chart_picture\\kakao.png\")\n",
    "        cursor.execute(sql, ('kakao', 0, image))          # 넣으려는 값\n",
    "    connection.commit()\n",
    "    print(cursor.lastrowid)\n",
    "    # 1 (last insert id)\n",
    "\n",
    "finally:\n",
    "    connection.close()"
   ]
  },
  {
   "cell_type": "code",
   "execution_count": 79,
   "metadata": {},
   "outputs": [
    {
     "name": "stdout",
     "output_type": "stream",
     "text": [
      "company_name =  b'kakao'\n",
      "Storing employee image and bio-data on disk \n",
      "\n",
      "C:\\source\\SPF\\chart_picture\\test\\kakao_test.png\n",
      "MySQL connection is closed\n"
     ]
    }
   ],
   "source": [
    "import pymysql\n",
    "#\n",
    "# DB에 저장된 binary를 이미지로 컴퓨터에 저장하기 (값이 잘 들어갔는지 확인)\n",
    "#\n",
    "def write_file(data, filename):\n",
    "    # Convert binary data to proper format and write it on Hard Disk\n",
    "    print(filename)\n",
    "    with open(filename, 'wb') as file:\n",
    "        file.write(data)\n",
    "        \n",
    "connection = pymysql.connect(host='222.122.86.187', port=3306, user='geniuses777', password='stock7840',\n",
    "                       db='geniuses777', charset='utf8')\n",
    "\n",
    "try:\n",
    "    with connection.cursor() as cursor:\n",
    "        sql = \"select * from stock_hye where company_name = %s \"\n",
    "        cursor.execute(sql, ('kakao', ))\n",
    "        record = cursor.fetchall()\n",
    "        for row in record:\n",
    "            print(\"company_name = \", row[1])\n",
    "            image =  row[3]\n",
    "            print(\"Storing employee image and bio-data on disk \\n\")\n",
    "            write_file(image, r\"C:\\source\\SPF\\chart_picture\\test\\kakao_test.png\")\n",
    "    connection.commit()\n",
    "\n",
    "    \n",
    "finally:\n",
    "    connection.close()\n",
    "    print(\"MySQL connection is closed\")"
   ]
  },
  {
   "cell_type": "code",
   "execution_count": 80,
   "metadata": {},
   "outputs": [
    {
     "name": "stdout",
     "output_type": "stream",
     "text": [
      "company_name =  b'samsung'\n",
      "Storing employee image and bio-data on disk \n",
      "\n",
      "C:\\source\\SPF\\chart_picture\\test\\samsung_test.png\n",
      "MySQL connection is closed\n"
     ]
    }
   ],
   "source": [
    "import pymysql\n",
    "\n",
    "def write_file(data, filename):\n",
    "    # Convert binary data to proper format and write it on Hard Disk\n",
    "    print(filename)\n",
    "    with open(filename, 'wb') as file:\n",
    "        file.write(data)\n",
    "        \n",
    "connection = pymysql.connect(host='222.122.86.187', port=3306, user='geniuses777', password='stock7840',\n",
    "                       db='geniuses777', charset='utf8')\n",
    "\n",
    "try:\n",
    "    with connection.cursor() as cursor:\n",
    "        sql = \"select * from stock_hye where company_name = %s \"\n",
    "        cursor.execute(sql, ('samsung', ))          # 넣으려는 값\n",
    "        record = cursor.fetchall()\n",
    "        for row in record:\n",
    "            print(\"company_name = \", row[1])\n",
    "            image =  row[3]\n",
    "            print(\"Storing employee image and bio-data on disk \\n\")\n",
    "            write_file(image, r\"C:\\source\\SPF\\chart_picture\\test\\samsung_test.png\")\n",
    "    connection.commit()\n",
    "\n",
    "    \n",
    "finally:\n",
    "    connection.close()\n",
    "    print(\"MySQL connection is closed\")"
   ]
  },
  {
   "cell_type": "code",
   "execution_count": null,
   "metadata": {
    "collapsed": true
   },
   "outputs": [],
   "source": []
  }
 ],
 "metadata": {
  "kernelspec": {
   "display_name": "Python [conda env:tensorflow]",
   "language": "python",
   "name": "conda-env-tensorflow-py"
  },
  "language_info": {
   "codemirror_mode": {
    "name": "ipython",
    "version": 3
   },
   "file_extension": ".py",
   "mimetype": "text/x-python",
   "name": "python",
   "nbconvert_exporter": "python",
   "pygments_lexer": "ipython3",
   "version": "3.5.4"
  }
 },
 "nbformat": 4,
 "nbformat_minor": 2
}
