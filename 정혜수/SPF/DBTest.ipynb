{
 "cells": [
  {
   "cell_type": "code",
   "execution_count": 2,
   "metadata": {
    "collapsed": true
   },
   "outputs": [],
   "source": [
    "import pymysql"
   ]
  },
  {
   "cell_type": "code",
   "execution_count": 12,
   "metadata": {
    "collapsed": true
   },
   "outputs": [],
   "source": [
    "# \n",
    "# DB테이블 값 조회 (SELECT)\n",
    "#\n",
    "# MySQL Connection 연결\n",
    "connection = pymysql.connect(host='222.122.86.187', port=3306, user='geniuses777', password='stock7840',\n",
    "                       db='geniuses777', charset='utf8')\n",
    " \n",
    "try :\n",
    "    with connection.cursor() as cursor :       # Connection 으로부터 Cursor 생성\n",
    "        sql = \"select * from stock_hye\"           # SQL문 실행\n",
    "        cursor.execute(\"set names utf8\")\n",
    "        cursor.execute(sql)\n",
    "        result = cursor.fetchall()            # 데이터 fetch\n",
    "        \n",
    "        for i in result :\n",
    "            print(i)\n",
    "finally :\n",
    "    # Connection 닫기\n",
    "    connection.close()"
   ]
  },
  {
   "cell_type": "code",
   "execution_count": 2,
   "metadata": {
    "collapsed": true
   },
   "outputs": [],
   "source": [
    "import pymysql"
   ]
  },
  {
   "cell_type": "code",
   "execution_count": 23,
   "metadata": {},
   "outputs": [
    {
     "name": "stdout",
     "output_type": "stream",
     "text": [
      "0\n"
     ]
    }
   ],
   "source": [
    "# \n",
    "# DB테이블 값 삽입 (INSERT)\n",
    "#\n",
    "# MySQL Connection 연결\n",
    "connection = pymysql.connect(host='222.122.86.187', port=3306, user='geniuses777', password='stock7840',\n",
    "                       db='geniuses777', charset='utf8')\n",
    "try:\n",
    "    with connection.cursor() as cursor:\n",
    "        sql = 'INSERT INTO stock_hye (company_name, stock_price) VALUES (%s, %s) ON DUPLICATE KEY UPDATE stock_price = VALUES(stock_price)'\n",
    "        cursor.execute(sql, ('samsung', 1200))          # 넣으려는 값\n",
    "        sql = 'INSERT INTO stock_hye (company_name, stock_price) VALUES (%s, %s) ON DUPLICATE KEY UPDATE stock_price = VALUES(stock_price)'\n",
    "        cursor.execute(sql, ('kakao', 12000))          # 넣으려는 값\n",
    "    connection.commit()\n",
    "    print(cursor.lastrowid)\n",
    "    # 1 (last insert id)\n",
    "    \n",
    "finally:\n",
    "    connection.close()"
   ]
  },
  {
   "cell_type": "code",
   "execution_count": null,
   "metadata": {
    "collapsed": true
   },
   "outputs": [],
   "source": [
    "// 전달인자 filename 으로는 파일 경로와 이름넣어주면됨.. ex) \"c://test.PNG\"\n",
    "\n",
    "public void imageTest2(String filename) { \n",
    "\n",
    "  String driverName = \"com.mysql.jdbc.Driver\";\n",
    "\n",
    "  String dbURL = \"jdbc:mysql://(ip):(port)/(dataBaseName)\";\n",
    "\n",
    "  System.out.println(dbURL);\n",
    "\n",
    "  try {\n",
    "\n",
    "   Class.forName(driverName);\n",
    "\n",
    "   Connection con=DriverManager.getConnection(dbURL,\"root\",\"1234\");\n",
    "\n",
    "   int maxID = getMaxID(con) + 1;\n",
    "\n",
    "   File file = new java.io.File(filename);\n",
    "\n",
    "   int fileLength = (int) file.length();\n",
    "\n",
    "   System.out.println(fileLength);\n",
    "\n",
    "   InputStream fin = new FileInputStream(file);\n",
    "\n",
    "   PreparedStatement pstmt = con\n",
    "\n",
    "     .prepareStatement(\"INSERT INTO blob_test (img_no, file_name, thumb) VALUES (?, ?, ?)\");\n",
    "\n",
    "   pstmt.setInt(1, maxID);\n",
    "\n",
    "   pstmt.setString(2, filename);\n",
    "\n",
    "   pstmt.setBinaryStream(3, fin, fileLength); // Stream형의 파일업\n",
    "\n",
    "   pstmt.executeUpdate();\n",
    "\n",
    "   pstmt.close();\n",
    "\n",
    "   con.close();\n",
    "\n",
    "  } catch (SQLException e) {\n",
    "\n",
    "   e.printStackTrace();\n",
    "\n",
    "  } catch (ClassNotFoundException e) {\n",
    "\n",
    "   e.printStackTrace();\n",
    "\n",
    "  } catch (FileNotFoundException e) {\n",
    "\n",
    "   e.printStackTrace();\n",
    "\n",
    "  }\n",
    "\n",
    "}\n",
    "\n",
    " \n",
    "\n",
    "public int getMaxID(Connection con) throws SQLException {\n",
    "\n",
    "  int maxID = 0;\n",
    "\n",
    "  Statement stmt = con.createStatement();\n",
    "\n",
    "  ResultSet result = stmt.executeQuery(\"SELECT MAX(img_no) FROM blob_test\");\n",
    "\n",
    "  while (result.next()) {\n",
    "\n",
    "   maxID = result.getInt(1);\n",
    "\n",
    "  }\n",
    "\n",
    "  result.close();\n",
    "\n",
    "  stmt.close();\n",
    "\n",
    "  return maxID;\n",
    "\n",
    "}"
   ]
  },
  {
   "cell_type": "code",
   "execution_count": 6,
   "metadata": {
    "scrolled": true
   },
   "outputs": [
    {
     "data": {
      "image/png": "[encoded data removed]",
      "text/plain": [
       "<Figure size 600x400 with 1 Axes>"
      ]
     },
     "metadata": {},
     "output_type": "display_data"
    },
    {
     "name": "stdout",
     "output_type": "stream",
     "text": [
      "C:\\source\\SPF\n"
     ]
    }
   ],
   "source": [
    "import pandas as pd\n",
    "import matplotlib.pyplot as plt\n",
    "import settings\n",
    "\n",
    "x = [1,2,3]\n",
    "y = [6,4,8]\n",
    "\n",
    "plt.plot(x, y)\n",
    "plt.xlabel('Numbers')\n",
    "plt.ylabel('Counting')\n",
    "\n",
    "plt.title('Practice')\n",
    "plt.show()\n",
    "\n",
    "#path = os.path.join(settings_csv.BASE_DIR, 'chart_picture')\n",
    "print(settings.BASE_DIR)\n",
    "#stock_code = \"samsung\"\n",
    "#fullpath = path + os.path.sep + stock_code + '.png'\n",
    "#fig.savefig(fullpath) #그래프 저장\n",
    "#fig.savefig(\"./chart_data/samsung.png\") #그래프 저장\n",
    "\n",
    "# .csv파일을 저장할 디렉토리\n",
    "#data_dir = os.path.join(\n",
    "#    settings.BASE_DIR, 'chart_picture/%s' % (\n",
    "#        settings.get_today_str()))     # timestr : 날짜, 시간\n",
    "#if not os.path.isdir(data_dir):\n",
    "#    os.makedirs(data_dir)\n",
    "\n",
    "plt = plt.figure()    \n",
    "#plt.savefig(fullpath) #그래프 저장\n",
    "#plt.savefig(\"./chart_data/samsung.png\") #그래프 저장\n",
    "plt.savefig(\"./chart_picture/samsung.png\",dpi=300)"
   ]
  },
  {
   "cell_type": "code",
   "execution_count": null,
   "metadata": {
    "collapsed": true
   },
   "outputs": [],
   "source": []
  }
 ],
 "metadata": {
  "kernelspec": {
   "display_name": "Python [conda env:tensorflow]",
   "language": "python",
   "name": "conda-env-tensorflow-py"
  },
  "language_info": {
   "codemirror_mode": {
    "name": "ipython",
    "version": 3
   },
   "file_extension": ".py",
   "mimetype": "text/x-python",
   "name": "python",
   "nbconvert_exporter": "python",
   "pygments_lexer": "ipython3",
   "version": "3.5.4"
  }
 },
 "nbformat": 4,
 "nbformat_minor": 2
}
