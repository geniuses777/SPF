{
 "cells": [
  {
   "cell_type": "code",
   "execution_count": 1,
   "metadata": {},
   "outputs": [
    {
     "name": "stdout",
     "output_type": "stream",
     "text": [
      "20190523\n"
     ]
    }
   ],
   "source": [
    "#\n",
    "# csv파일 저장\n",
    "#\n",
    "import FinanceDataReader as fdr\n",
    "import settings\n",
    "import os\n",
    "import locale\n",
    "from datetime import date, timedelta\n",
    "\n",
    "start_date = '2009-01-01' # 최근 10년간 데이터\n",
    "end_date = settings.get_today_str() # 오늘날짜\n",
    "#end_date = date.today() - timedelta(1) # 어제날짜\n",
    "stocks = ['samsung', 'kakao', 'naver', 'cj', 'lg', 'sk', 'lgdisplay', 'dusan', 'asiana', 'jeju', 'hanhwa', 'hyundai', 'hite']\n",
    "#stocks = ['005930', '035720', '035420', '001040', '066570', '034730', '034220', '000150', '020560', '089590', '000880', '005380', '000080']\n",
    "\n",
    "# .csv파일을 저장할 디렉토리\n",
    "data_dir = os.path.join(\n",
    "    settings.BASE_DIR, 'chart_data/%s' % (\n",
    "        settings.get_today_str()))     # timestr : 날짜, 시간\n",
    "if not os.path.isdir(data_dir):\n",
    "    os.makedirs(data_dir)\n",
    "    \n",
    "############################ csv파일 추가 ############################\n",
    "## samsung\n",
    "df = fdr.DataReader('005930', start_date, end_date)\n",
    "#df.to_csv('./chart_data/%s/%s.csv' % (settings.get_today_str(), stocks[0]))\n",
    "df.to_csv(\"C:\\source\\SPF\\chart_data\\%s\\%s.csv\" % (settings.get_today_str(), stocks[0]))\n",
    "## kakao\n",
    "df = fdr.DataReader('035720', start_date, end_date)\n",
    "#df.to_csv('./chart_data/%s/%s.csv' % (settings.get_today_str(), stocks[1]))\n",
    "df.to_csv(\"C:\\source\\SPF\\chart_data\\%s\\%s.csv\" % (settings.get_today_str(), stocks[1]))\n",
    "## naver\n",
    "df = fdr.DataReader('035420', start_date, end_date)\n",
    "#df.to_csv('./chart_data/%s/%s.csv' % (settings.get_today_str(), stocks[2]))\n",
    "df.to_csv(\"C:\\source\\SPF\\chart_data\\%s\\%s.csv\" % (settings.get_today_str(), stocks[2]))\n",
    "## cj\n",
    "df = fdr.DataReader('001040', start_date, end_date)\n",
    "#df.to_csv('./chart_data/%s/%s.csv' % (settings.get_today_str(), stocks[3]))\n",
    "df.to_csv(\"C:\\source\\SPF\\chart_data\\%s\\%s.csv\" % (settings.get_today_str(), stocks[3]))\n",
    "## lg\n",
    "df = fdr.DataReader('066570', start_date, end_date)\n",
    "#df.to_csv('./chart_data/%s/%s.csv' % (settings.get_today_str(), stocks[4]))\n",
    "df.to_csv(\"C:\\source\\SPF\\chart_data\\%s\\%s.csv\" % (settings.get_today_str(), stocks[4]))\n",
    "## sk\n",
    "df = fdr.DataReader('034730', start_date, end_date)\n",
    "#df.to_csv('./chart_data/%s/%s.csv' % (settings.get_today_str(), stocks[5]))\n",
    "df.to_csv(\"C:\\source\\SPF\\chart_data\\%s\\%s.csv\" % (settings.get_today_str(), stocks[5]))\n",
    "## lgdisplay\n",
    "df = fdr.DataReader('034220', start_date, end_date)\n",
    "#df.to_csv('./chart_data/%s/%s.csv' % (settings.get_today_str(), stocks[6]))\n",
    "df.to_csv(\"C:\\source\\SPF\\chart_data\\%s\\%s.csv\" % (settings.get_today_str(), stocks[6]))\n",
    "## dusan\n",
    "df = fdr.DataReader('000150', start_date, end_date)\n",
    "#df.to_csv('./chart_data/%s/%s.csv' % (settings.get_today_str(), stocks[7]))\n",
    "df.to_csv(\"C:\\source\\SPF\\chart_data\\%s\\%s.csv\" % (settings.get_today_str(), stocks[7]))\n",
    "## asiana\n",
    "df = fdr.DataReader('020560', start_date, end_date)\n",
    "#df.to_csv('./chart_data/%s/%s.csv' % (settings.get_today_str(), stocks[8]))\n",
    "df.to_csv(\"C:\\source\\SPF\\chart_data\\%s\\%s.csv\" % (settings.get_today_str(), stocks[8]))\n",
    "## jeju\n",
    "df = fdr.DataReader('089590', start_date, end_date)\n",
    "#df.to_csv('./chart_data/%s/%s.csv' % (settings.get_today_str(), stocks[9]))\n",
    "df.to_csv(\"C:\\source\\SPF\\chart_data\\%s\\%s.csv\" % (settings.get_today_str(), stocks[9]))\n",
    "## hanhwa\n",
    "df = fdr.DataReader('000880', start_date, end_date)\n",
    "#df.to_csv('./chart_data/%s/%s.csv' % (settings.get_today_str(), stocks[10]))\n",
    "df.to_csv(\"C:\\source\\SPF\\chart_data\\%s\\%s.csv\" % (settings.get_today_str(), stocks[10]))\n",
    "## hyundai\n",
    "df = fdr.DataReader('005380', start_date, end_date)\n",
    "#df.to_csv('./chart_data/%s/%s.csv' % (settings.get_today_str(), stocks[11]))\n",
    "df.to_csv(\"C:\\source\\SPF\\chart_data\\%s\\%s.csv\" % (settings.get_today_str(), stocks[11]))\n",
    "## hite\n",
    "df = fdr.DataReader('000080', start_date, end_date)\n",
    "#df.to_csv('./chart_data/%s/%s.csv' % (settings.get_today_str(), stocks[12]))\n",
    "df.to_csv(\"C:\\source\\SPF\\chart_data\\%s\\%s.csv\" % (settings.get_today_str(), stocks[12]))\n",
    "\n",
    "print(settings.get_today_str())\n",
    "#yesterday = date.today() - timedelta(1)\n",
    "#print(yesterday.strftime('%Y-%m-%d'))"
   ]
  },
  {
   "cell_type": "code",
   "execution_count": null,
   "metadata": {
    "collapsed": true
   },
   "outputs": [],
   "source": []
  }
 ],
 "metadata": {
  "kernelspec": {
   "display_name": "Python [default]",
   "language": "python",
   "name": "python3"
  },
  "language_info": {
   "codemirror_mode": {
    "name": "ipython",
    "version": 3
   },
   "file_extension": ".py",
   "mimetype": "text/x-python",
   "name": "python",
   "nbconvert_exporter": "python",
   "pygments_lexer": "ipython3",
   "version": "3.5.4"
  }
 },
 "nbformat": 4,
 "nbformat_minor": 2
}
