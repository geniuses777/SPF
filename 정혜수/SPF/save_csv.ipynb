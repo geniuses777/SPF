{
 "cells": [
  {
   "cell_type": "code",
   "execution_count": 1,
   "metadata": {},
   "outputs": [
    {
     "name": "stdout",
     "output_type": "stream",
     "text": [
      "20190515\n"
     ]
    }
   ],
   "source": [
    "#\n",
    "# csv파일 저장\n",
    "#\n",
    "import FinanceDataReader as fdr\n",
    "import settings\n",
    "import os\n",
    "import locale\n",
    "from datetime import date, timedelta\n",
    "\n",
    "start_date = '2009-01-01' # 최근 10년간 데이터\n",
    "#end_date = settings.get_today_str() # 오늘날짜\n",
    "end_date = date.today() - timedelta(1) # 어제날짜\n",
    "stocks = ['samsung', 'kakao', 'naver', 'cj', 'lg', 'sk', 'kb', 'kt']\n",
    "#stocks = ['005930', '035720', '035420', '001040', '066570', '000660', '105560', '030200']\n",
    "\n",
    "# .csv파일을 저장할 디렉토리\n",
    "data_dir = os.path.join(\n",
    "    settings.BASE_DIR, 'chart_data/%s' % (\n",
    "        settings.get_today_str()))     # timestr : 날짜, 시간\n",
    "if not os.path.isdir(data_dir):\n",
    "    os.makedirs(data_dir)\n",
    "    \n",
    "# 추가\n",
    "# samsung\n",
    "df = fdr.DataReader('005930', start_date, end_date)\n",
    "df.to_csv('./chart_data/%s/%s.csv' % (settings.get_today_str(), stocks[0]))\n",
    "# kakao\n",
    "df = fdr.DataReader('035720', start_date, end_date)\n",
    "df.to_csv('./chart_data/%s/%s.csv' % (settings.get_today_str(), stocks[1]))\n",
    "# naver\n",
    "df = fdr.DataReader('035420', start_date, end_date)\n",
    "df.to_csv('./chart_data/%s/%s.csv' % (settings.get_today_str(), stocks[2]))\n",
    "# cj\n",
    "df = fdr.DataReader('001040', start_date, end_date)\n",
    "df.to_csv('./chart_data/%s/%s.csv' % (settings.get_today_str(), stocks[3]))\n",
    "# lg\n",
    "df = fdr.DataReader('066570', start_date, end_date)\n",
    "df.to_csv('./chart_data/%s/%s.csv' % (settings.get_today_str(), stocks[4]))\n",
    "# sk\n",
    "df = fdr.DataReader('000660', start_date, end_date)\n",
    "df.to_csv('./chart_data/%s/%s.csv' % (settings.get_today_str(), stocks[5]))\n",
    "# kb\n",
    "df = fdr.DataReader('105560', start_date, end_date)\n",
    "df.to_csv('./chart_data/%s/%s.csv' % (settings.get_today_str(), stocks[6]))\n",
    "# kt\n",
    "df = fdr.DataReader('030200', start_date, end_date)\n",
    "df.to_csv('./chart_data/%s/%s.csv' % (settings.get_today_str(), stocks[7]))\n",
    "\n",
    "print(settings.get_today_str())\n",
    "#yesterday = date.today() - timedelta(1)\n",
    "#print(yesterday.strftime('%Y-%m-%d'))"
   ]
  },
  {
   "cell_type": "code",
   "execution_count": null,
   "metadata": {
    "collapsed": true
   },
   "outputs": [],
   "source": []
  }
 ],
 "metadata": {
  "kernelspec": {
   "display_name": "Python [default]",
   "language": "python",
   "name": "python3"
  },
  "language_info": {
   "codemirror_mode": {
    "name": "ipython",
    "version": 3
   },
   "file_extension": ".py",
   "mimetype": "text/x-python",
   "name": "python",
   "nbconvert_exporter": "python",
   "pygments_lexer": "ipython3",
   "version": "3.5.4"
  }
 },
 "nbformat": 4,
 "nbformat_minor": 2
}
