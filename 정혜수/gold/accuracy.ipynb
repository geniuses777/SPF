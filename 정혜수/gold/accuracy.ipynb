{
 "cells": [
  {
   "cell_type": "code",
   "execution_count": 1,
   "metadata": {},
   "outputs": [
    {
     "name": "stdout",
     "output_type": "stream",
     "text": [
      "MySQL connection is closed\n"
     ]
    }
   ],
   "source": [
    "import pymysql\n",
    "import os\n",
    "import settings\n",
    "import pandas as pd\n",
    "\n",
    "connection = pymysql.connect(host='222.122.86.187', port=3306, user='geniuses777', password='stock7840',\n",
    "                       db='geniuses777', charset='utf8')\n",
    "\n",
    "############################################ 오차율 계산하기 ############################################\n",
    "\n",
    "############################################ 금 ############################################\n",
    "try:\n",
    "    with connection.cursor() as cursor:  \n",
    "        sql = \"select stock_price from stock_hye WHERE company_name='gold'\"\n",
    "        \n",
    "        cursor.execute(\"set names utf8\")\n",
    "        \n",
    "        cursor.execute(sql)\n",
    "        \n",
    "        result_stock_price = cursor.fetchone()\n",
    "        \n",
    "        for i in result_stock_price:\n",
    "            price = i\n",
    "            \n",
    "        \n",
    "        #\n",
    "        # 저장되어있는 주식데이터 불러오기\n",
    "        #\n",
    "        sydtpath = os.path.join(settings.BASE_DIR, 'chart_data/%s' % (settings.get_today_str()))\n",
    "        stock_code = \"gold\"\n",
    "        fullpath = sydtpath + os.path.sep + stock_code + '.csv'\n",
    "        pandf = pd.read_csv(fullpath, index_col=\"DATE\")\n",
    "        pandf = pandf.dropna(how=\"any\")\n",
    "\n",
    "        # 데이터 전처리\n",
    "        now = pandf['GOLDAMGBD228NLBM'].values[-1]     # 맨마지막 'Close'데이터\n",
    "        now.astype('int')    # int형으로 변환\n",
    "            \n",
    "            \n",
    "        sql = \"UPDATE `stock_hye` SET `accuracy` = %s WHERE `company_name` = %s\"\n",
    "\n",
    "        accuracy = float(abs(price-now)/now*100)\n",
    "        \n",
    "        cursor.execute(sql, (accuracy, 'gold'))\n",
    "        \n",
    "        \n",
    "        connection.commit()\n",
    "    \n",
    "finally:\n",
    "    connection.close()\n",
    "    print(\"MySQL connection is closed\")"
   ]
  },
  {
   "cell_type": "code",
   "execution_count": null,
   "metadata": {
    "collapsed": true
   },
   "outputs": [],
   "source": []
  }
 ],
 "metadata": {
  "kernelspec": {
   "display_name": "Python [conda env:tensorflow]",
   "language": "python",
   "name": "conda-env-tensorflow-py"
  },
  "language_info": {
   "codemirror_mode": {
    "name": "ipython",
    "version": 3
   },
   "file_extension": ".py",
   "mimetype": "text/x-python",
   "name": "python",
   "nbconvert_exporter": "python",
   "pygments_lexer": "ipython3",
   "version": "3.5.4"
  }
 },
 "nbformat": 4,
 "nbformat_minor": 2
}
