{
 "cells": [
  {
   "cell_type": "code",
   "execution_count": null,
   "metadata": {
    "collapsed": true
   },
   "outputs": [],
   "source": [
    "import settings\n",
    "import os\n",
    "import FinanceDataReader as fdr\n",
    "\n",
    "# .csv파일을 저장할 디렉토리\n",
    "data_dir = os.path.join(\n",
    "    settings.BASE_DIR, 'data1/%s' % (\n",
    "        settings.get_today_str()))     # timestr : 날짜, 시간\n",
    "if not os.path.isdir(data_dir):\n",
    "    os.makedirs(data_dir)\n",
    "    \n",
    "    \n",
    "start_date = '2009-01-01' # 최근 10년간 데이터\n",
    "end_date = settings.get_today_str() # 오늘날짜\n",
    "stocks = ['APPL']\n",
    "# 애플(AAPL), 2009-01-01 ~ 오늘\n",
    "df = fdr.DataReader('AAPL', start_date, end_date)\n",
    "df.tail()\n",
    "df.to_csv('./data1/%s/apple.csv' % (settings.get_today_str()))\n",
    "\n",
    "# 추가\n",
    "\n",
    "print(settings.get_today_str())\n",
    "#yesterday = date.today() - timedelta(1)\n",
    "#print(yesterday.strftime('%Y-%m-%d'))"
   ]
  }
 ],
 "metadata": {
  "kernelspec": {
   "display_name": "Python [default]",
   "language": "python",
   "name": "python3"
  }
 },
 "nbformat": 4,
 "nbformat_minor": 2
}
