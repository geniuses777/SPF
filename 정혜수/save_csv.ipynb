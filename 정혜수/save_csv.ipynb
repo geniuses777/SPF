{
 "cells": [
  {
   "cell_type": "code",
   "execution_count": null,
   "metadata": {
    "collapsed": true
   },
   "outputs": [],
   "source": [
    "import FinanceDataReader as fdr\n",
    "import settings\n",
    "import os\n",
    "import locale\n",
    "from datetime import date, timedelta\n",
    "\n",
    "start_date = '2009-01-01' # 최근 10년간 데이터\n",
    "#end_date = settings.get_today_str() # 오늘날짜\n",
    "end_date = date.today() - timedelta(1) # 어제날짜\n",
    "stocks = ['samsung', 'kakao']\n",
    "# 애플(AAPL), 2009-01-01 ~ 오늘\n",
    "\n",
    "# .csv파일을 저장할 디렉토리\n",
    "data_dir = os.path.join(\n",
    "    settings.BASE_DIR, 'data1/%s' % (\n",
    "        settings.get_today_str()))     # timestr : 날짜, 시간\n",
    "if not os.path.isdir(data_dir):\n",
    "    os.makedirs(data_dir)\n",
    "# 추가\n",
    "df = fdr.DataReader('005930', start_date, end_date)\n",
    "df.to_csv('./data1/%s/%s.csv' % (settings.get_today_str(), stocks[0]))\n",
    "df = fdr.DataReader('035720', start_date, end_date)\n",
    "df.to_csv('./data1/%s/%s.csv' % (settings.get_today_str(), stocks[1]))\n",
    "\n",
    "print(settings.get_today_str())\n",
    "#yesterday = date.today() - timedelta(1)\n",
    "#print(yesterday.strftime('%Y-%m-%d'))"
   ]
  }
 ],
 "metadata": {
  "kernelspec": {
   "display_name": "Python [default]",
   "language": "python",
   "name": "python3"
  },
  "language_info": {
   "codemirror_mode": {
    "name": "ipython",
    "version": 3
   },
   "file_extension": ".py",
   "mimetype": "text/x-python",
   "name": "python",
   "nbconvert_exporter": "python",
   "pygments_lexer": "ipython3",
   "version": "3.5.4"
  }
 },
 "nbformat": 4,
 "nbformat_minor": 2
}
