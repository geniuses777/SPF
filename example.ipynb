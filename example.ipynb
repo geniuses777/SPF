{
 "cells": [
  {
   "cell_type": "code",
   "execution_count": 2,
   "metadata": {},
   "outputs": [
    {
     "name": "stdout",
     "output_type": "stream",
     "text": [
      "b'Hello World'\n"
     ]
    }
   ],
   "source": [
    "import tensorflow as tf\n",
    "box = tf.constant(\"Hello World\")\n",
    "sess = tf.Session()\n",
    "print(sess.run(box))\n"
   ]
  },
  {
   "cell_type": "code",
   "execution_count": 3,
   "metadata": {},
   "outputs": [
    {
     "name": "stdout",
     "output_type": "stream",
     "text": [
      "1. 덧셈 ) A + B = 5\n",
      "2. 뺄셈 ) A - B = 1\n",
      "3. 곱하기 ) A * B = 6\n",
      "4. 나누기 ) A / B = 1.5\n"
     ]
    }
   ],
   "source": [
    "import tensorflow as tf\n",
    "\n",
    "a = tf.constant(3)\n",
    "b = tf.constant(2)\n",
    "sum = a + b\n",
    "min = a - b\n",
    "mul = a * b\n",
    "dvi = a / b\n",
    "\n",
    "sess = tf.Session()\n",
    "\n",
    "print(\"1. 덧셈 ) A + B =\", sess.run(sum))\n",
    "print(\"2. 뺄셈 ) A - B =\", sess.run(min))\n",
    "print(\"3. 곱하기 ) A * B =\", sess.run(mul))\n",
    "print(\"4. 나누기 ) A / B =\", sess.run(dvi))\n"
   ]
  },
  {
   "cell_type": "code",
   "execution_count": 4,
   "metadata": {},
   "outputs": [
    {
     "name": "stdout",
     "output_type": "stream",
     "text": [
      "7\n",
      "[4 6]\n",
      "[[ 6  8]\n",
      " [10 12]]\n"
     ]
    }
   ],
   "source": [
    "import tensorflow as tf\n",
    "\n",
    "a = tf.placeholder(tf.int32)\n",
    "b = tf.placeholder(tf.int32)\n",
    "\n",
    "add = a+b\n",
    "sess = tf.Session()\n",
    "\n",
    "print(sess.run(add, feed_dict={a:3, b:4}))\n",
    "print(sess.run(add, feed_dict={a:[1,2], b:[3,4]}))\n",
    "print(sess.run(add, feed_dict={a:[[1,2],[3,4]], b:[[5,6],[7,8]]}))"
   ]
  },
  {
   "cell_type": "code",
   "execution_count": null,
   "metadata": {},
   "outputs": [],
   "source": [
    "import tensorflow as tf\n",
    "X = [1, 2, 4, 5, 6, 7]\n",
    "Y = [10, 20, 40, 50, 60, 70]\n",
    "\n",
    "W = tf.Variable(tf.random_normal([1]))\n",
    "b = tf.Variable(tf.random_normal([1]))\n",
    "\n",
    "hypothesis = W * X + b\n",
    "cost = tf.reduce_mean(tf.square(hypothesis - Y))\n",
    "\n",
    "optimizer = tf.train.GradientDescentOptimizer(learning_rate=0.01)\n",
    "train = optimizer.minimize(cost)\n",
    "\n",
    "sess = tf.Session()\n",
    "sess.run(tf.global_variables_initializer())\n",
    "\n",
    "for step in range(2001):\n",
    "    sess.run(train)\n",
    "    if sep % 200 == 0\n",
    "    print(step,sess.run(cost),sess.run(W),sess.run(b))"
   ]
  }
 ],
 "metadata": {
  "kernelspec": {
   "display_name": "Python 3",
   "language": "python",
   "name": "python3"
  },
  "language_info": {
   "codemirror_mode": {
    "name": "ipython",
    "version": 3
   },
   "file_extension": ".py",
   "mimetype": "text/x-python",
   "name": "python",
   "nbconvert_exporter": "python",
   "pygments_lexer": "ipython3",
   "version": "3.6.8"
  }
 },
 "nbformat": 4,
 "nbformat_minor": 2
}
