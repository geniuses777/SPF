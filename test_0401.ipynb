{
 "cells": [
  {
   "cell_type": "markdown",
   "metadata": {},
   "source": [
    "import tensorflow as tf\n",
    "import numpy as np\n",
    "import datetime\n"
   ]
  },
  {
   "cell_type": "code",
   "execution_count": 2,
   "metadata": {
    "collapsed": true
   },
   "outputs": [],
   "source": [##https://blog.naver.com/wideeyed/221160038616
    "import tensorflow as tf\n",
    "import numpy as np\n",
    "import pandas as pd\n",
    "import datetime\n",
    "import matplotlib.pyplot as plt"
   ]
  },
  {
   "cell_type": "code",
   "execution_count": null,
   "metadata": {
    "collapsed": true
   },
   "outputs": [],
   "source": []
  },
  {
   "cell_type": "code",
   "execution_count": 3,
   "metadata": {
    "collapsed": false
   },
   "outputs": [
    {
     "ename": "AttributeError",
     "evalue": "module 'tensorflow' has no attribute 'set_random_send'",
     "output_type": "error",
     "traceback": [
      "\u001b[1;31m---------------------------------------------------------------------------\u001b[0m",
      "\u001b[1;31mAttributeError\u001b[0m                            Traceback (most recent call last)",
      "\u001b[1;32m<ipython-input-3-acf421b579c9>\u001b[0m in \u001b[0;36m<module>\u001b[1;34m()\u001b[0m\n\u001b[1;32m----> 1\u001b[1;33m \u001b[0mtf\u001b[0m\u001b[1;33m.\u001b[0m\u001b[0mset_random_send\u001b[0m\u001b[1;33m(\u001b[0m\u001b[1;36m777\u001b[0m\u001b[1;33m)\u001b[0m\u001b[1;33m\u001b[0m\u001b[0m\n\u001b[0m",
      "\u001b[1;31mAttributeError\u001b[0m: module 'tensorflow' has no attribute 'set_random_send'"
     ]
    }
   ],
   "source": [
    "tf.set_random_send(777)"
   ]
  },
  {
   "cell_type": "code",
   "execution_count": 4,
   "metadata": {
    "collapsed": true
   },
   "outputs": [],
   "source": [
    "def data_standardization(x):\n",
    "    x_np = np.asarray(x)\n",
    "    return (x_np - x_np.mean()) / x_np.std()"
   ]
  },
  {
   "cell_type": "code",
   "execution_count": 5,
   "metadata": {
    "collapsed": true
   },
   "outputs": [],
   "source": [
    "def min_max_scaling(x):\n",
    "    x_np = np.asarray(x)\n",
    "    return (x_np - x_np.min()) / (x_np.max() - x_np.min() + 1e-7) # 1e-7은 0으로 나누는 오류 예방차원\n",
    " \n",
    "# 정규화된 값을 원래의 값으로 되돌린다\n",
    "# 정규화하기 이전의 org_x값과 되돌리고 싶은 x를 입력하면 역정규화된 값을 리턴한다\n",
    "def reverse_min_max_scaling(org_x, x):\n",
    "    org_x_np = np.asarray(org_x)\n",
    "    x_np = np.asarray(x)\n",
    "    return (x_np * (org_x_np.max() - org_x_np.min() + 1e-7)) + org_x_np.min()\n",
    "\n"
   ]
  },
  {
   "cell_type": "code",
   "execution_count": 6,
   "metadata": {
    "collapsed": true
   },
   "outputs": [],
   "source": [
    "input_data_column_cnt = 6  # 입력데이터의 컬럼 개수(Variable 개수)\n",
    "output_data_column_cnt = 1 # 결과데이터의 컬럼 개수\n",
    " \n",
    "seq_length = 28            # 1개 시퀀스의 길이(시계열데이터 입력 개수)\n",
    "rnn_cell_hidden_dim = 20   # 각 셀의 (hidden)출력 크기\n",
    "forget_bias = 1.0          # 망각편향(기본값 1.0)\n",
    "num_stacked_layers = 1     # stacked LSTM layers 개수\n",
    "keep_prob = 1.0            # dropout할 때 keep할 비율\n",
    " \n",
    "epoch_num = 1000           # 에폭 횟수(학습용전체데이터를 몇 회 반복해서 학습할 것인가 입력)\n",
    "learning_rate = 0.01       # 학습률[출처] "
   ]
  },
  {
   "cell_type": "code",
   "execution_count": 8,
   "metadata": {
    "collapsed": false
   },
   "outputs": [
    {
     "name": "stdout",
     "output_type": "stream",
     "text": [
      "<class 'pandas.core.frame.DataFrame'>\n",
      "RangeIndex: 5179 entries, 0 to 5178\n",
      "Data columns (total 7 columns):\n",
      "Date         5179 non-null object\n",
      "Open         5179 non-null object\n",
      "High         5179 non-null object\n",
      "Low          5179 non-null object\n",
      "Close        5179 non-null object\n",
      "Adj Close    5179 non-null object\n",
      "Volume       5179 non-null object\n",
      "dtypes: object(7)\n",
      "memory usage: 283.3+ KB\n",
      "stock_info.shape:  (5178, 6)\n",
      "stock_info[0]:  [2.437500e+00 2.500000e+00 1.927083e+00 1.958333e+00 1.958333e+00\n",
      " 7.215600e+07]\n"
     ]
    }
   ],
   "source": [
    "stock_file_name = 'AMZN.csv' # 아마존 주가데이터 파일\n",
    "encoding = 'euc-kr' # 문자 인코딩\n",
    "names = ['Date','Open','High','Low','Close','Adj Close','Volume']\n",
    "raw_dataframe = pd.read_csv(stock_file_name, names=names, encoding=encoding) #판다스이용 csv파일 로딩\n",
    "raw_dataframe.info() # 데이터 정보 출력\n",
    " \n",
    "# raw_dataframe.drop('Date', axis=1, inplace=True) # 시간열을 제거하고 dataframe 재생성하지 않기\n",
    "del raw_dataframe['Date'] # 위 줄과 같은 효과\n",
    " \n",
    "stock_info = raw_dataframe.values[1:].astype(np.float) # 금액&거래량 문자열을 부동소수점형으로 변환한다\n",
    "print(\"stock_info.shape: \", stock_info.shape)\n",
    "print(\"stock_info[0]: \", stock_info[0])"
   ]
  },
  {
   "cell_type": "code",
   "execution_count": 9,
   "metadata": {
    "collapsed": false
   },
   "outputs": [
    {
     "name": "stdout",
     "output_type": "stream",
     "text": [
      "price.shape:  (5178, 5)\n",
      "price[0]:  [2.4375   2.5      1.927083 1.958333 1.958333]\n",
      "norm_price[0]:  [0.00092814 0.00097971 0.00050704 0.00053282 0.00053282]\n",
      "====================================================================================================\n",
      "volume.shape:  (5178, 1)\n",
      "volume[0]:  [72156000.]\n",
      "norm_volume[0]:  [0.69017161]\n",
      "====================================================================================================\n",
      "x.shape:  (5178, 6)\n",
      "x[0]:  [9.28143131e-04 9.79706638e-04 5.07040880e-04 5.32822633e-04\n",
      " 5.32822633e-04 6.90171607e-01]\n",
      "x[-1]:  [0.96451605 0.96645482 0.95354329 0.95758589 0.95758589 0.02142033]\n",
      "====================================================================================================\n",
      "y[0]:  [0.00053282]\n",
      "y[-1]:  [0.95758589]\n",
      "[[9.28143131e-04 9.79706638e-04 5.07040880e-04 5.32822633e-04\n",
      "  5.32822633e-04 6.90171607e-01]\n",
      " [5.41416826e-04 5.50011019e-04 3.26568604e-04 3.43756990e-04\n",
      "  3.43756990e-04 1.36869475e-01]\n",
      " [3.69538744e-04 3.78132112e-04 2.57817536e-04 3.26568604e-04\n",
      "  3.26568604e-04 5.41168313e-02]\n",
      " [3.43756990e-04 3.60944551e-04 2.66411729e-04 2.66411729e-04\n",
      "  2.66411729e-04 4.79574739e-02]\n",
      " [2.66411729e-04 2.75005097e-04 5.15635073e-05 9.45328216e-05\n",
      "  9.45328216e-05 1.76864852e-01]\n",
      " [1.03127015e-04 1.11721207e-04 0.00000000e+00 6.87510680e-05\n",
      "  6.87510680e-05 1.08719015e-01]\n",
      " [7.73452609e-05 1.71878083e-04 1.71875607e-05 1.54690522e-04\n",
      "  1.54690522e-04 1.48783729e-01]\n",
      " [1.63284715e-04 2.75005097e-04 1.20314575e-04 2.23441590e-04\n",
      "  2.23441590e-04 7.90662738e-02]\n",
      " [2.57817536e-04 2.66411729e-04 1.80472275e-04 1.80472275e-04\n",
      "  1.80472275e-04 3.93597966e-02]\n",
      " [1.89066468e-04 1.89066468e-04 1.37502961e-04 1.58987206e-04\n",
      "  1.58987206e-04 2.87513723e-02]\n",
      " [1.54690522e-04 1.63284715e-04 1.37502961e-04 1.54690522e-04\n",
      "  1.54690522e-04 2.02923673e-02]\n",
      " [1.63284715e-04 1.80472275e-04 1.54690522e-04 1.63284715e-04\n",
      "  1.63284715e-04 1.00537355e-03]\n",
      " [1.80472275e-04 1.80472275e-04 1.37502961e-04 1.37502961e-04\n",
      "  1.37502961e-04 6.70249032e-03]\n",
      " [1.37502961e-04 1.46096329e-04 6.87510680e-05 8.59394538e-05\n",
      "  8.59394538e-05 2.49725545e-02]\n",
      " [8.59394538e-05 1.89066468e-04 5.15635073e-05 1.89066468e-04\n",
      "  1.89066468e-04 4.99335529e-02]\n",
      " [1.67581399e-04 3.26568604e-04 1.63284715e-04 2.83599290e-04\n",
      "  2.83599290e-04 7.04917086e-02]\n",
      " [2.83599290e-04 3.26568604e-04 2.83599290e-04 3.09381044e-04\n",
      "  3.09381044e-04 1.79580517e-02]\n",
      " [3.26568604e-04 3.26568604e-04 1.80472275e-04 2.23441590e-04\n",
      "  2.23441590e-04 4.78765817e-02]\n",
      " [2.32035783e-04 2.40629976e-04 1.80472275e-04 1.89066468e-04\n",
      "  1.89066468e-04 6.74871439e-03]\n",
      " [2.23441590e-04 2.75005097e-04 1.97659836e-04 2.40629976e-04\n",
      "  2.40629976e-04 1.10244410e-02]\n",
      " [2.57817536e-04 2.57817536e-04 2.23441590e-04 2.23441590e-04\n",
      "  2.23441590e-04 1.98763506e-03]\n",
      " [2.40629976e-04 2.40629976e-04 2.06254029e-04 2.14848222e-04\n",
      "  2.14848222e-04 4.10238632e-03]\n",
      " [2.36332467e-04 2.36332467e-04 1.50393838e-04 1.58987206e-04\n",
      "  1.58987206e-04 4.06309586e-02]\n",
      " [1.71878083e-04 1.84768959e-04 1.54690522e-04 1.63284715e-04\n",
      "  1.63284715e-04 1.90443173e-02]\n",
      " [1.63284715e-04 1.80472275e-04 1.54690522e-04 1.63284715e-04\n",
      "  1.63284715e-04 4.96908765e-03]\n",
      " [1.80472275e-04 1.97659836e-04 1.54690522e-04 1.76175591e-04\n",
      "  1.76175591e-04 2.79308950e-02]\n",
      " [1.89066468e-04 1.89066468e-04 1.37502961e-04 1.54690522e-04\n",
      "  1.54690522e-04 5.39666031e-03]\n",
      " [1.58987206e-04 1.76175591e-04 1.37502961e-04 1.63284715e-04\n",
      "  1.63284715e-04 2.54232392e-03]] -> [0.00016328]\n"
     ]
    }
   ],
   "source": [
    "\n",
    "# 데이터 전처리\n",
    "# 가격과 거래량 수치의 차이가 많아나서 각각 별도로 정규화한다\n",
    " \n",
    "# 가격형태 데이터들을 정규화한다\n",
    "# ['Open','High','Low','Close','Adj Close','Volume']에서 'Adj Close'까지 취함\n",
    "# 곧, 마지막 열 Volume를 제외한 모든 열\n",
    "price = stock_info[:,:-1]\n",
    "norm_price = min_max_scaling(price) # 가격형태 데이터 정규화 처리\n",
    "print(\"price.shape: \", price.shape)\n",
    "print(\"price[0]: \", price[0])\n",
    "print(\"norm_price[0]: \", norm_price[0])\n",
    "print(\"=\"*100) # 화면상 구분용\n",
    " \n",
    "# 거래량형태 데이터를 정규화한다\n",
    "# ['Open','High','Low','Close','Adj Close','Volume']에서 마지막 'Volume'만 취함\n",
    "# [:,-1]이 아닌 [:,-1:]이므로 주의하자! 스칼라가아닌 벡터값 산출해야만 쉽게 병합 가능\n",
    "volume = stock_info[:,-1:]\n",
    "norm_volume = min_max_scaling(volume) # 거래량형태 데이터 정규화 처리\n",
    "print(\"volume.shape: \", volume.shape)\n",
    "print(\"volume[0]: \", volume[0])\n",
    "print(\"norm_volume[0]: \", norm_volume[0])\n",
    "print(\"=\"*100) # 화면상 구분용\n",
    " \n",
    "# 행은 그대로 두고 열을 우측에 붙여 합친다\n",
    "x = np.concatenate((norm_price, norm_volume), axis=1) # axis=1, 세로로 합친다\n",
    "print(\"x.shape: \", x.shape)\n",
    "print(\"x[0]: \", x[0])    # x의 첫 값\n",
    "print(\"x[-1]: \", x[-1])  # x의 마지막 값\n",
    "print(\"=\"*100) # 화면상 구분용\n",
    " \n",
    "y = x[:, [-2]] # 타켓은 주식 종가이다\n",
    "print(\"y[0]: \",y[0])     # y의 첫 값\n",
    "print(\"y[-1]: \",y[-1])   # y의 마지막 값\n",
    " \n",
    " \n",
    "dataX = [] # 입력으로 사용될 Sequence Data\n",
    "dataY = [] # 출력(타켓)으로 사용\n",
    " \n",
    "for i in range(0, len(y) - seq_length):\n",
    "    _x = x[i : i+seq_length]\n",
    "    _y = y[i + seq_length] # 다음 나타날 주가(정답)\n",
    "    if i is 0:\n",
    "        print(_x, \"->\", _y) # 첫번째 행만 출력해 봄\n",
    "    dataX.append(_x) # dataX 리스트에 추가\n",
    "    dataY.append(_y) # dataY 리스트에 추가\n"
   ]
  },
  {
   "cell_type": "code",
   "execution_count": 10,
   "metadata": {
    "collapsed": true
   },
   "outputs": [],
   "source": [
    "# 학습용/테스트용 데이터 생성\n",
    "# 전체 70%를 학습용 데이터로 사용\n",
    "train_size = int(len(dataY) * 0.7)\n",
    "# 나머지(30%)를 테스트용 데이터로 사용\n",
    "test_size = len(dataY) - train_size\n",
    " \n",
    "# 데이터를 잘라 학습용 데이터 생성\n",
    "trainX = np.array(dataX[0:train_size])\n",
    "trainY = np.array(dataY[0:train_size])\n",
    " \n",
    "# 데이터를 잘라 테스트용 데이터 생성\n",
    "testX = np.array(dataX[train_size:len(dataX)])\n",
    "testY = np.array(dataY[train_size:len(dataY)])\n"
   ]
  },
  {
   "cell_type": "code",
   "execution_count": 11,
   "metadata": {
    "collapsed": false
   },
   "outputs": [
    {
     "name": "stdout",
     "output_type": "stream",
     "text": [
      "X:  Tensor(\"Placeholder:0\", shape=(?, 28, 6), dtype=float32)\n",
      "Y:  Tensor(\"Placeholder_1:0\", shape=(?, 1), dtype=float32)\n",
      "targets:  Tensor(\"Placeholder_2:0\", shape=(?, 1), dtype=float32)\n",
      "predictions:  Tensor(\"Placeholder_3:0\", shape=(?, 1), dtype=float32)\n"
     ]
    }
   ],
   "source": [
    " \n",
    "# 텐서플로우 플레이스홀더 생성\n",
    "# 입력 X, 출력 Y를 생성한다\n",
    "X = tf.placeholder(tf.float32, [None, seq_length, input_data_column_cnt])\n",
    "print(\"X: \", X)\n",
    "Y = tf.placeholder(tf.float32, [None, 1])\n",
    "print(\"Y: \", Y)\n",
    " \n",
    "# 검증용 측정지표를 산출하기 위한 targets, predictions를 생성한다\n",
    "targets = tf.placeholder(tf.float32, [None, 1])\n",
    "print(\"targets: \", targets)\n",
    " \n",
    "predictions = tf.placeholder(tf.float32, [None, 1])\n",
    "print(\"predictions: \", predictions)\n"
   ]
  },
  {
   "cell_type": "code",
   "execution_count": 12,
   "metadata": {
    "collapsed": false
   },
   "outputs": [
    {
     "name": "stdout",
     "output_type": "stream",
     "text": [
      "\n",
      "WARNING: The TensorFlow contrib module will not be included in TensorFlow 2.0.\n",
      "For more information, please see:\n",
      "  * https://github.com/tensorflow/community/blob/master/rfcs/20180907-contrib-sunset.md\n",
      "  * https://github.com/tensorflow/addons\n",
      "If you depend on functionality not listed there, please file an issue.\n",
      "\n",
      "WARNING:tensorflow:From <ipython-input-12-824f673d0a4c>:11: BasicLSTMCell.__init__ (from tensorflow.python.ops.rnn_cell_impl) is deprecated and will be removed in a future version.\n",
      "Instructions for updating:\n",
      "This class is equivalent as tf.keras.layers.LSTMCell, and will be replaced by that in Tensorflow 2.0.\n",
      "WARNING:tensorflow:From <ipython-input-12-824f673d0a4c>:21: dynamic_rnn (from tensorflow.python.ops.rnn) is deprecated and will be removed in a future version.\n",
      "Instructions for updating:\n",
      "Please use `keras.layers.RNN(cell)`, which is equivalent to this API\n",
      "WARNING:tensorflow:From C:\\Program Files\\Anaconda3\\envs\\tensorflow\\lib\\site-packages\\tensorflow\\python\\ops\\tensor_array_ops.py:162: colocate_with (from tensorflow.python.framework.ops) is deprecated and will be removed in a future version.\n",
      "Instructions for updating:\n",
      "Colocations handled automatically by placer.\n",
      "hypothesis:  Tensor(\"rnn/transpose_1:0\", shape=(?, 28, 20), dtype=float32)\n"
     ]
    }
   ],
   "source": [
    "\n",
    "# 모델(LSTM 네트워크) 생성\n",
    "def lstm_cell():\n",
    "    # LSTM셀을 생성\n",
    "    # num_units: 각 Cell 출력 크기\n",
    "    # forget_bias:  to the biases of the forget gate \n",
    "    #              (default: 1)  in order to reduce the scale of forgetting in the beginning of the training.\n",
    "    # state_is_tuple: True ==> accepted and returned states are 2-tuples of the c_state and m_state.\n",
    "    # state_is_tuple: False ==> they are concatenated along the column axis.\n",
    "    cell = tf.contrib.rnn.BasicLSTMCell(num_units=rnn_cell_hidden_dim, \n",
    "                                        forget_bias=forget_bias, state_is_tuple=True, activation=tf.nn.softsign)\n",
    "    if keep_prob < 1.0:\n",
    "        cell = tf.contrib.rnn.DropoutWrapper(cell, output_keep_prob=keep_prob)\n",
    "    return cell\n",
    " \n",
    "# num_stacked_layers개의 층으로 쌓인 Stacked RNNs 생성\n",
    "stackedRNNs = [lstm_cell() for _ in range(num_stacked_layers)]\n",
    "multi_cells = tf.contrib.rnn.MultiRNNCell(stackedRNNs, state_is_tuple=True) if num_stacked_layers > 1 else lstm_cell()\n",
    " \n",
    "# RNN Cell(여기서는 LSTM셀임)들을 연결\n",
    "hypothesis, _states = tf.nn.dynamic_rnn(multi_cells, X, dtype=tf.float32)\n",
    "print(\"hypothesis: \", hypothesis)\n",
    " \n",
    "# [:, -1]를 잘 살펴보자. LSTM RNN의 마지막 (hidden)출력만을 사용했다.\n",
    "# 과거 여러 거래일의 주가를 이용해서 다음날의 주가 1개를 예측하기때문에 MANY-TO-ONE형태이다\n",
    "hypothesis = tf.contrib.layers.fully_connected(hypothesis[:, -1], output_data_column_cnt, activation_fn=tf.identity)\n",
    " \n",
    " \n",
    "# 손실함수로 평균제곱오차를 사용한다\n",
    "loss = tf.reduce_sum(tf.square(hypothesis - Y))\n",
    "# 최적화함수로 AdamOptimizer를 사용한다\n",
    "optimizer = tf.train.AdamOptimizer(learning_rate)\n",
    "# optimizer = tf.train.RMSPropOptimizer(learning_rate) # LSTM과 궁합 별로임\n",
    " \n",
    "train = optimizer.minimize(loss)\n",
    " \n",
    "# RMSE(Root Mean Square Error)\n",
    "# 제곱오차의 평균을 구하고 다시 제곱근을 구하면 평균 오차가 나온다\n",
    "# rmse = tf.sqrt(tf.reduce_mean(tf.square(targets-predictions))) # 아래 코드와 같다\n",
    "rmse = tf.sqrt(tf.reduce_mean(tf.squared_difference(targets, predictions)))\n",
    " \n",
    " \n",
    "train_error_summary = [] # 학습용 데이터의 오류를 중간 중간 기록한다\n",
    "test_error_summary = []  # 테스트용 데이터의 오류를 중간 중간 기록한다\n",
    "test_predict = ''        # 테스트용데이터로 예측한 결과\n",
    " \n",
    "sess = tf.Session()\n",
    "sess.run(tf.global_variables_initializer())\n"
   ]
  },
  {
   "cell_type": "code",
   "execution_count": 13,
   "metadata": {
    "collapsed": false
   },
   "outputs": [
    {
     "name": "stdout",
     "output_type": "stream",
     "text": [
      "학습을 시작합니다...\n",
      "epoch: 100, train_error(A): 0.0027893539518117905, test_error(B): 0.09575290977954865, B-A: 0.0929635539650917\n",
      "epoch: 200, train_error(A): 0.0025908842217177153, test_error(B): 0.06924298405647278, B-A: 0.0666520968079567\n",
      "epoch: 300, train_error(A): 0.0024811476469039917, test_error(B): 0.04788503795862198, B-A: 0.04540389031171799\n",
      "epoch: 400, train_error(A): 0.002407946391031146, test_error(B): 0.03475353866815567, B-A: 0.032345592975616455\n",
      "epoch: 500, train_error(A): 0.002350670052692294, test_error(B): 0.027131451293826103, B-A: 0.02478078193962574\n",
      "epoch: 600, train_error(A): 0.0023027793504297733, test_error(B): 0.02266588620841503, B-A: 0.020363107323646545\n",
      "epoch: 700, train_error(A): 0.0022618421353399754, test_error(B): 0.020325440913438797, B-A: 0.01806359924376011\n",
      "epoch: 800, train_error(A): 0.002225881442427635, test_error(B): 0.01954672299325466, B-A: 0.017320841550827026\n",
      "epoch: 900, train_error(A): 0.002193136839196086, test_error(B): 0.01977868564426899, B-A: 0.017585549503564835\n",
      "epoch: 1000, train_error(A): 0.0021626667585223913, test_error(B): 0.020501507446169853, B-A: 0.018338840454816818\n",
      "elapsed_time: 0:02:27.678599\n",
      "elapsed_time per epoch: 0:00:00.147679\n",
      "input_data_column_cnt: 6,output_data_column_cnt: 1,seq_length: 28,rnn_cell_hidden_dim: 20,forget_bias: 1.0,num_stacked_layers: 1,keep_prob: 1.0,epoch_num: 1000,learning_rate: 0.01,train_error: 0.0021626668,test_error: 0.020501507,min_test_error: 0.019546723\n"
     ]
    }
   ],
   "source": [
    "\n",
    "# 학습한다\n",
    "start_time = datetime.datetime.now() # 시작시간을 기록한다\n",
    "print('학습을 시작합니다...')\n",
    "for epoch in range(epoch_num):\n",
    "    _, _loss = sess.run([train, loss], feed_dict={X: trainX, Y: trainY})\n",
    "    if ((epoch+1) % 100 == 0) or (epoch == epoch_num-1): # 100번째마다 또는 마지막 epoch인 경우\n",
    "        # 학습용데이터로 rmse오차를 구한다\n",
    "        train_predict = sess.run(hypothesis, feed_dict={X: trainX})\n",
    "        train_error = sess.run(rmse, feed_dict={targets: trainY, predictions: train_predict})\n",
    "        train_error_summary.append(train_error)\n",
    " \n",
    "        # 테스트용데이터로 rmse오차를 구한다\n",
    "        test_predict = sess.run(hypothesis, feed_dict={X: testX})\n",
    "        test_error = sess.run(rmse, feed_dict={targets: testY, predictions: test_predict})\n",
    "        test_error_summary.append(test_error)\n",
    "        \n",
    "        # 현재 오류를 출력한다\n",
    "        print(\"epoch: {}, train_error(A): {}, test_error(B): {}, B-A: {}\".format(epoch+1, train_error, test_error, test_error-train_error))\n",
    "        \n",
    "end_time = datetime.datetime.now() # 종료시간을 기록한다\n",
    "elapsed_time = end_time - start_time # 경과시간을 구한다\n",
    "print('elapsed_time:',elapsed_time)\n",
    "print('elapsed_time per epoch:',elapsed_time/epoch_num)\n",
    " \n",
    " \n",
    "# 하이퍼파라미터 출력\n",
    "print('input_data_column_cnt:', input_data_column_cnt, end='')\n",
    "print(',output_data_column_cnt:', output_data_column_cnt, end='')\n",
    " \n",
    "print(',seq_length:', seq_length, end='')\n",
    "print(',rnn_cell_hidden_dim:', rnn_cell_hidden_dim, end='')\n",
    "print(',forget_bias:', forget_bias, end='')\n",
    "print(',num_stacked_layers:', num_stacked_layers, end='')\n",
    "print(',keep_prob:', keep_prob, end='')\n",
    " \n",
    "print(',epoch_num:', epoch_num, end='')\n",
    "print(',learning_rate:', learning_rate, end='')\n",
    " \n",
    "print(',train_error:', train_error_summary[-1], end='')\n",
    "print(',test_error:', test_error_summary[-1], end='')\n",
    "print(',min_test_error:', np.min(test_error_summary))"
   ]
  },
  {
   "cell_type": "code",
   "execution_count": 14,
   "metadata": {
    "collapsed": false
   },
   "outputs": [
    {
     "data": {
      "image/png": "iVBORw0KGgoAAAANSUhEUgAAAYsAAAEKCAYAAADjDHn2AAAABHNCSVQICAgIfAhkiAAAAAlwSFlz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\nqpwszMysKicLMzOr6v8Dgi6oHmtzP+QAAAAASUVORK5CYII=\n",
      "text/plain": [
       "<Figure size 432x288 with 1 Axes>"
      ]
     },
     "metadata": {},
     "output_type": "display_data"
    },
    {
     "data": {
      "image/png": "iVBORw0KGgoAAAANSUhEUgAAAYoAAAEKCAYAAAAMzhLIAAAABHNCSVQICAgIfAhkiAAAAAlwSFlz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\nQmCC\n",
      "text/plain": [
       "<Figure size 432x288 with 1 Axes>"
      ]
     },
     "metadata": {},
     "output_type": "display_data"
    }
   ],
   "source": [
    "# 결과 그래프 출력\n",
    "plt.figure(1)\n",
    "plt.plot(train_error_summary, 'gold')\n",
    "plt.plot(test_error_summary, 'b')\n",
    "plt.xlabel('Epoch(x100)')\n",
    "plt.ylabel('Root Mean Square Error')\n",
    " \n",
    "plt.figure(2)\n",
    "plt.plot(testY, 'r')\n",
    "plt.plot(test_predict, 'b')\n",
    "plt.xlabel('Time Period')\n",
    "plt.ylabel('Stock Price')\n",
    "plt.show()\n"
   ]
  },
  {
   "cell_type": "code",
   "execution_count": 17,
   "metadata": {
    "collapsed": false
   },
   "outputs": [
    {
     "name": "stdout",
     "output_type": "stream",
     "text": [
      "recent_data.shape: (1, 28, 6)\n",
      "recent_data: [[[0.91386004 0.9151306  0.90735891 0.910791   0.910791   0.02879182]\n",
      "  [0.91089    0.91383526 0.90374533 0.909471   0.909471   0.03147378]\n",
      "  [0.90462816 0.90803538 0.89560243 0.90166628 0.90166628 0.0307939 ]\n",
      "  [0.89913352 0.91689614 0.89696373 0.91600506 0.91600506 0.03143526]\n",
      "  [0.91398381 0.92739858 0.9136703  0.92347976 0.92347976 0.0278683 ]\n",
      "  [0.92684578 0.93168037 0.92087268 0.92555055 0.92555055 0.02120337]\n",
      "  [0.92526172 0.935756   0.92220094 0.93356143 0.93356143 0.02016814]\n",
      "  [0.92785228 0.93087187 0.91944541 0.93046762 0.93046762 0.03125421]\n",
      "  [0.92796779 0.93262916 0.92628483 0.92734903 0.92734903 0.01630073]\n",
      "  [0.92541026 0.93935306 0.92486573 0.93050065 0.93050065 0.02341249]\n",
      "  [0.93127612 0.93778551 0.92614454 0.93682846 0.93682846 0.0255311 ]\n",
      "  [0.92871859 0.93262916 0.92428    0.92845453 0.92845453 0.0331417 ]\n",
      "  [0.93131741 0.93791754 0.93122667 0.93719978 0.93719978 0.01662237]\n",
      "  [0.93801653 0.93844556 0.92772861 0.93108638 0.93108638 0.01854933]\n",
      "  [0.93099564 0.93400697 0.92503905 0.92814112 0.92814112 0.01614665]\n",
      "  [0.93354491 0.93943554 0.92970031 0.93901477 0.93901477 0.01918492]\n",
      "  [0.94026055 0.95615863 0.94026055 0.95276783 0.95276783 0.02954585]\n",
      "  [0.95651333 0.97807927 0.95651333 0.97738628 0.97738628 0.02928295]\n",
      "  [0.99113108 1.         0.98163513 0.98549615 0.98549615 0.06025308]\n",
      "  [0.99296259 0.99334206 0.97946534 0.98365638 0.98365638 0.03921535]\n",
      "  [0.98464646 0.98464646 0.94371732 0.95698365 0.95698365 0.08445812]\n",
      "  [0.96179346 0.97125637 0.95593586 0.96975488 0.96975488 0.03873192]\n",
      "  [0.96587735 0.97214745 0.94933573 0.95787463 0.95787463 0.03485969]\n",
      "  [0.96736231 0.96847607 0.92953535 0.93444415 0.93444415 0.05243254]\n",
      "  [0.92974986 0.95533362 0.92684578 0.94073077 0.94073077 0.03459679]\n",
      "  [0.93777725 0.95254506 0.93620144 0.94962447 0.94962447 0.02278558]\n",
      "  [0.95312253 0.95856761 0.94851072 0.95576264 0.95576264 0.01946804]\n",
      "  [0.96451605 0.96645482 0.95354329 0.95758589 0.95758589 0.02142033]]]\n"
     ]
    }
   ],
   "source": [
    "# sequence length만큼의 가장 최근 데이터를 슬라이싱한다\n",
    "recent_data = np.array([x[len(x)-seq_length : ]])\n",
    "print(\"recent_data.shape:\", recent_data.shape)\n",
    "print(\"recent_data:\", recent_data)"
   ]
  },
  {
   "cell_type": "code",
   "execution_count": 18,
   "metadata": {
    "collapsed": false
   },
   "outputs": [
    {
     "name": "stdout",
     "output_type": "stream",
     "text": [
      "test_predict [0.88350755]\n",
      "Tomorrow's stock price [1072.2098]\n"
     ]
    }
   ],
   "source": [
    "# 내일 종가를 예측해본다\n",
    "test_predict = sess.run(hypothesis, feed_dict={X: recent_data})\n",
    " \n",
    "print(\"test_predict\", test_predict[0])\n",
    "test_predict = reverse_min_max_scaling(price,test_predict) # 금액데이터 역정규화한다\n",
    "print(\"Tomorrow's stock price\", test_predict[0]) # 예측한 주가를 출력한다[출처] [Tensorflow] LSTM RNN을 이용하여 아마존 주가 예측하기|작성자 똑똑이\n",
    "\n"
   ]
  },
  {
   "cell_type": "code",
   "execution_count": null,
   "metadata": {
    "collapsed": true
   },
   "outputs": [],
   "source": []
  },
  {
   "cell_type": "code",
   "execution_count": null,
   "metadata": {
    "collapsed": true
   },
   "outputs": [],
   "source": []
  },
  {
   "cell_type": "code",
   "execution_count": null,
   "metadata": {
    "collapsed": true
   },
   "outputs": [],
   "source": []
  },
  {
   "cell_type": "code",
   "execution_count": null,
   "metadata": {
    "collapsed": true
   },
   "outputs": [],
   "source": []
  },
  {
   "cell_type": "code",
   "execution_count": null,
   "metadata": {
    "collapsed": true
   },
   "outputs": [],
   "source": []
  },
  {
   "cell_type": "code",
   "execution_count": null,
   "metadata": {
    "collapsed": true
   },
   "outputs": [],
   "source": []
  },
  {
   "cell_type": "code",
   "execution_count": null,
   "metadata": {
    "collapsed": true
   },
   "outputs": [],
   "source": []
  },
  {
   "cell_type": "code",
   "execution_count": null,
   "metadata": {
    "collapsed": true
   },
   "outputs": [],
   "source": []
  },
  {
   "cell_type": "code",
   "execution_count": null,
   "metadata": {
    "collapsed": true
   },
   "outputs": [],
   "source": []
  },
  {
   "cell_type": "code",
   "execution_count": null,
   "metadata": {
    "collapsed": true
   },
   "outputs": [],
   "source": []
  }
 ],
 "metadata": {
  "anaconda-cloud": {},
  "kernelspec": {
   "display_name": "Python [conda env:tensorflow]",
   "language": "python",
   "name": "conda-env-tensorflow-py"
  },
  "language_info": {
   "codemirror_mode": {
    "name": "ipython",
    "version": 3
   },
   "file_extension": ".py",
   "mimetype": "text/x-python",
   "name": "python",
   "nbconvert_exporter": "python",
   "pygments_lexer": "ipython3",
   "version": "3.5.4"
  }
 },
 "nbformat": 4,
 "nbformat_minor": 1
}
