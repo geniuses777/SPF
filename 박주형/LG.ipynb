{
 "cells": [
  {
   "cell_type": "code",
   "execution_count": 1,
   "metadata": {
    "collapsed": true
   },
   "outputs": [],
   "source": [
    "import tensorflow as tf\n",
    "import numpy as np\n",
    "import pandas as pd\n",
    "import datetime\n",
    "import matplotlib.pyplot as plt"
   ]
  },
  {
   "cell_type": "code",
   "execution_count": 2,
   "metadata": {
    "collapsed": true
   },
   "outputs": [],
   "source": [
    "tf.set_random_seed(777)"
   ]
  },
  {
   "cell_type": "code",
   "execution_count": 3,
   "metadata": {
    "collapsed": true
   },
   "outputs": [],
   "source": [
    "def data_standardization(x):\n",
    "    x_np = np.asarray(x)\n",
    "    return (x_np - x_np.mean()) / x_np.std()"
   ]
  },
  {
   "cell_type": "code",
   "execution_count": 4,
   "metadata": {
    "collapsed": true
   },
   "outputs": [],
   "source": [
    "def min_max_scaling(x):\n",
    "    x_np = np.asarray(x)\n",
    "    return (x_np - x_np.min()) / (x_np.max() - x_np.min() + 1e-7)"
   ]
  },
  {
   "cell_type": "code",
   "execution_count": 5,
   "metadata": {
    "collapsed": true
   },
   "outputs": [],
   "source": [
    "def reverse_min_max_scaling(org_x, x):\n",
    "    org_x_np = np.asarray(org_x)\n",
    "    x_np = np.asarray(x)\n",
    "    return (x_np * (org_x_np.max() - org_x_np.min() + 1e-7)) + org_x_np.min()"
   ]
  },
  {
   "cell_type": "code",
   "execution_count": 6,
   "metadata": {
    "collapsed": true
   },
   "outputs": [],
   "source": [
    "input_data_column_cnt = 6  # 입력데이터의 컬럼 개수(Variable 개수)\n",
    "output_data_column_cnt = 1 # 결과데이터의 컬럼 개수\n",
    " \n",
    "seq_length = 28            # 1개 시퀀스의 길이(시계열데이터 입력 개수)\n",
    "rnn_cell_hidden_dim = 20   # 각 셀의 (hidden)출력 크기\n",
    "forget_bias = 1.0          # 망각편향(기본값 1.0)\n",
    "num_stacked_layers = 1     # stacked LSTM layers 개수\n",
    "keep_prob = 1.0            # dropout할 때 keep할 비율\n",
    " \n",
    "epoch_num = 1000           # 에폭 횟수(학습용전체데이터를 몇 회 반복해서 학습할 것인가 입력)\n",
    "learning_rate = 0.01       # 학습률"
   ]
  },
  {
   "cell_type": "code",
   "execution_count": 18,
   "metadata": {},
   "outputs": [
    {
     "name": "stdout",
     "output_type": "stream",
     "text": [
      "<class 'pandas.core.frame.DataFrame'>\n",
      "RangeIndex: 4173 entries, 0 to 4172\n",
      "Data columns (total 7 columns):\n",
      "Date         4173 non-null object\n",
      "Open         4173 non-null object\n",
      "High         4173 non-null object\n",
      "Low          4173 non-null object\n",
      "Close        4173 non-null object\n",
      "Adj Close    4173 non-null object\n",
      "Volume       4173 non-null object\n",
      "dtypes: object(7)\n",
      "memory usage: 228.3+ KB\n",
      "stock_info.shape:  (4172, 6)\n",
      "stock_info[0]:  [   58380.30078    59655.80078    53278.10156    55927.30078    46864.35547\n",
      "  4748665.     ]\n"
     ]
    }
   ],
   "source": [
    "stock_file_name = 'excel\\lg.csv' # 아마존 주가데이터 파일\n",
    "encoding = 'euc-kr' # 문자 인코딩\n",
    "names = ['Date','Open','High','Low','Close','Adj Close','Volume']\n",
    "raw_dataframe = pd.read_csv(stock_file_name, names=names, encoding=encoding) #판다스이용 csv파일 로딩\n",
    "raw_dataframe.info() # 데이터 정보 출력\n",
    " \n",
    "# raw_dataframe.drop('Date', axis=1, inplace=True) # 시간열을 제거하고 dataframe 재생성하지 않기\n",
    "del raw_dataframe['Date'] # 위 줄과 같은 효과\n",
    " \n",
    "    \n",
    "stock_info = raw_dataframe.values[1:].astype(np.float) # 금액&거래량 문자열을 부동소수점형으로 변환한다\n",
    "print(\"stock_info.shape: \", stock_info.shape)\n",
    "print(\"stock_info[0]: \", stock_info[0])"
   ]
  },
  {
   "cell_type": "code",
   "execution_count": null,
   "metadata": {
    "collapsed": true
   },
   "outputs": [],
   "source": []
  },
  {
   "cell_type": "code",
   "execution_count": null,
   "metadata": {
    "collapsed": true
   },
   "outputs": [],
   "source": []
  },
  {
   "cell_type": "code",
   "execution_count": 19,
   "metadata": {},
   "outputs": [
    {
     "name": "stdout",
     "output_type": "stream",
     "text": [
      "price.shape:  (4172, 5)\n",
      "price[0]:  [ 58380.30078  59655.80078  53278.10156  55927.30078  46864.35547]\n",
      "norm_price[0]:  [ 0.32868455  0.33367108  0.32797219  0.33082164  0.31166512]\n",
      "====================================================================================================\n",
      "********************************test정규화: [ 0.99999999]\n",
      "********************************test정규화: [ 0.89999999]\n",
      "********************************test정규화: [ 0.79999999]\n",
      "********************************test정규화: [ 0.59999999]\n",
      "********************************test정규화: [ 0.2]\n",
      "********************************test정규화: [ 0.]\n",
      "volume.shape:  (4172, 1)\n",
      "volume[0]:  [ 4748665.]\n",
      "norm_volume[0]:  [ 0.33476309]\n",
      "====================================================================================================\n",
      "x.shape:  (4172, 6)\n",
      "x[0]:  [ 0.24163609  0.25072226  0.20528998  0.22416186  0.1596009   0.33476309]\n",
      "x[-1]:  [ 0.31016315  0.31372496  0.30161481  0.3073137   0.3073137   0.0581838 ]\n",
      "====================================================================================================\n",
      "y[0]:  [ 0.1596009]\n",
      "y[-1]:  [ 0.3073137]\n",
      "[[ 0.24163609  0.25072226  0.20528998  0.22416186  0.1596009   0.33476309]\n",
      " [ 0.21018318  0.21996819  0.18781644  0.19201011  0.13265933  0.28119299]\n",
      " [ 0.18781644  0.21717217  0.17733189  0.20878481  0.1467157   0.29467173]\n",
      " [ 0.18432161  0.19899982  0.18432161  0.19061176  0.13148752  0.14299982]\n",
      " [ 0.18921409  0.19201011  0.17663308  0.1822244   0.12445938  0.14221667]\n",
      " [ 0.19410659  0.20948364  0.18711763  0.20948364  0.14730125  0.16168041]\n",
      " [ 0.20319349  0.22556023  0.20039747  0.22416186  0.1596009   0.16173067]\n",
      " [ 0.21437685  0.22905436  0.21018318  0.21018318  0.14788739  0.13521865]\n",
      " [ 0.20319349  0.21367731  0.20039747  0.21367731  0.15081531  0.11626503]\n",
      " [ 0.22346302  0.23324803  0.21926935  0.23115155  0.16545791  0.1414766 ]\n",
      " [ 0.24443139  0.24443139  0.22416186  0.2346464   0.16838644  0.15359745]\n",
      " [ 0.2297539   0.23185038  0.20249465  0.20598879  0.14437275  0.15112585]\n",
      " [ 0.20598879  0.20598879  0.18781644  0.20319349  0.14203036  0.13364518]\n",
      " [ 0.20738716  0.21577449  0.1794291   0.18851528  0.12973082  0.30612434]\n",
      " [ 0.19270894  0.2038923   0.1913113   0.20179512  0.14085867  0.26015578]\n",
      " [ 0.20668832  0.20668832  0.18921409  0.18921409  0.13031641  0.1313532 ]\n",
      " [ 0.19760145  0.20598879  0.19340778  0.19969863  0.13910194  0.1386889 ]\n",
      " [ 0.19969863  0.21297847  0.19899982  0.20598879  0.14437275  0.11311808]\n",
      " [ 0.20459114  0.20459114  0.18921409  0.18921409  0.13031641  0.07879613]\n",
      " [ 0.18921409  0.20319349  0.18571926  0.20179512  0.14085867  0.09242573]\n",
      " [ 0.19480613  0.20459114  0.19480613  0.1962038   0.13617344  0.06357141]\n",
      " [ 0.19969863  0.20668832  0.19899982  0.20249465  0.14144481  0.06890262]\n",
      " [ 0.19480613  0.20249465  0.19340778  0.19480613  0.13500222  0.04031413]\n",
      " [ 0.19690261  0.19899982  0.18571926  0.19270894  0.13324488  0.05521549]\n",
      " [ 0.18432161  0.18921409  0.18152559  0.18571926  0.12738779  0.0631547 ]\n",
      " [ 0.1822244   0.18432161  0.16440111  0.16614854  0.11098856  0.11306781]\n",
      " [ 0.16614854  0.16964339  0.14343274  0.14587901  0.09400366  0.09872683]\n",
      " [ 0.1437818   0.16335252  0.14343274  0.16335252  0.10864561  0.0960613 ]] -> [ 0.11274589]\n"
     ]
    }
   ],
   "source": [
    "# 데이터 전처리\n",
    "# 가격과 거래량 수치의 차이가 많아나서 각각 별도로 정규화한다\n",
    " \n",
    "# 가격형태 데이터들을 정규화한다\n",
    "# ['Open','High','Low','Close','Adj Close','Volume']에서 'Adj Close'까지 취함\n",
    "# 곧, 마지막 열 Volume를 제외한 모든 열\n",
    "price = stock_info[:,:-1]\n",
    "norm_price = min_max_scaling(price) # 가격형태 데이터 정규화 처리\n",
    "print(\"price.shape: \", price.shape)\n",
    "print(\"price[0]: \", price[0])\n",
    "print(\"norm_price[0]: \", norm_price[3000])\n",
    "print(\"=\"*100) # 화면상 구분용\n",
    " \n",
    "a = [[10],[9],[8],[6],[2],[0]]\n",
    "test_price=min_max_scaling(a)\n",
    "print(\"********************************test정규화:\",test_price[0])\n",
    "print(\"********************************test정규화:\",test_price[1])\n",
    "print(\"********************************test정규화:\",test_price[2])\n",
    "print(\"********************************test정규화:\",test_price[3])\n",
    "print(\"********************************test정규화:\",test_price[4])\n",
    "print(\"********************************test정규화:\",test_price[5])\n",
    "\n",
    "# 거래량형태 데이터를 정규화한다\n",
    "# ['Open','High','Low','Close','Adj Close','Volume']에서 마지막 'Volume'만 취함\n",
    "# [:,-1]이 아닌 [:,-1:]이므로 주의하자! 스칼라가아닌 벡터값 산출해야만 쉽게 병합 가능\n",
    "volume = stock_info[:,-1:]\n",
    "norm_volume = min_max_scaling(volume) # 거래량형태 데이터 정규화 처리\n",
    "print(\"volume.shape: \", volume.shape)\n",
    "print(\"volume[0]: \", volume[0])\n",
    "print(\"norm_volume[0]: \", norm_volume[0])\n",
    "print(\"=\"*100) # 화면상 구분용\n",
    " \n",
    "# 행은 그대로 두고 열을 우측에 붙여 합친다\n",
    "x = np.concatenate((norm_price, norm_volume), axis=1) # axis=1, 세로로 합친다\n",
    "print(\"x.shape: \", x.shape)\n",
    "print(\"x[0]: \", x[0])    # x의 첫 값\n",
    "print(\"x[-1]: \", x[-1])  # x의 마지막 값\n",
    "print(\"=\"*100) # 화면상 구분용\n",
    " \n",
    "y = x[:, [-2]] # 타켓은 주식 종가이다\n",
    "print(\"y[0]: \",y[0])     # y의 첫 값\n",
    "print(\"y[-1]: \",y[-1])   # y의 마지막 값\n",
    " \n",
    " \n",
    "dataX = [] # 입력으로 사용될 Sequence Data\n",
    "dataY = [] # 출력(타켓)으로 사용\n",
    " \n",
    "for i in range(0, len(y) - seq_length):\n",
    "    _x = x[i : i+seq_length]\n",
    "    _y = y[i + seq_length] # 다음 나타날 주가(정답)\n",
    "    if i is 0:\n",
    "        print(_x, \"->\", _y) # 첫번째 행만 출력해 봄\n",
    "    dataX.append(_x) # dataX 리스트에 추가\n",
    "    dataY.append(_y) # dataY 리스트에 추가"
   ]
  },
  {
   "cell_type": "code",
   "execution_count": 20,
   "metadata": {},
   "outputs": [
    {
     "name": "stdout",
     "output_type": "stream",
     "text": [
      "X:  Tensor(\"Placeholder:0\", shape=(?, 28, 6), dtype=float32)\n",
      "Y:  Tensor(\"Placeholder_1:0\", shape=(?, 1), dtype=float32)\n",
      "targets:  Tensor(\"Placeholder_2:0\", shape=(?, 1), dtype=float32)\n",
      "predictions:  Tensor(\"Placeholder_3:0\", shape=(?, 1), dtype=float32)\n"
     ]
    }
   ],
   "source": [
    "\n",
    " \n",
    "# 학습용/테스트용 데이터 생성\n",
    "# 전체 70%를 학습용 데이터로 사용\n",
    "train_size = int(len(dataY) * 0.7)\n",
    "# 나머지(30%)를 테스트용 데이터로 사용\n",
    "test_size = len(dataY) - train_size\n",
    " \n",
    "# 데이터를 잘라 학습용 데이터 생성\n",
    "trainX = np.array(dataX[0:train_size])\n",
    "trainY = np.array(dataY[0:train_size])\n",
    " \n",
    "# 데이터를 잘라 테스트용 데이터 생성\n",
    "testX = np.array(dataX[train_size:len(dataX)])\n",
    "testY = np.array(dataY[train_size:len(dataY)])\n",
    " \n",
    " \n",
    "# 텐서플로우 플레이스홀더 생성\n",
    "# 입력 X, 출력 Y를 생성한다\n",
    "X = tf.placeholder(tf.float32, [None, seq_length, input_data_column_cnt])\n",
    "print(\"X: \", X)\n",
    "Y = tf.placeholder(tf.float32, [None, 1])\n",
    "print(\"Y: \", Y)\n",
    " \n",
    "# 검증용 측정지표를 산출하기 위한 targets, predictions를 생성한다\n",
    "targets = tf.placeholder(tf.float32, [None, 1])\n",
    "print(\"targets: \", targets)\n",
    " \n",
    "predictions = tf.placeholder(tf.float32, [None, 1])\n",
    "print(\"predictions: \", predictions)\n"
   ]
  },
  {
   "cell_type": "code",
   "execution_count": 21,
   "metadata": {},
   "outputs": [
    {
     "name": "stdout",
     "output_type": "stream",
     "text": [
      "hypothesis:  Tensor(\"rnn/transpose:0\", shape=(?, 28, 20), dtype=float32)\n"
     ]
    }
   ],
   "source": [
    "\n",
    "# 모델(LSTM 네트워크) 생성\n",
    "def lstm_cell():\n",
    "    # LSTM셀을 생성\n",
    "    # num_units: 각 Cell 출력 크기\n",
    "    # forget_bias:  to the biases of the forget gate \n",
    "    #              (default: 1)  in order to reduce the scale of forgetting in the beginning of the training.\n",
    "    # state_is_tuple: True ==> accepted and returned states are 2-tuples of the c_state and m_state.\n",
    "    # state_is_tuple: False ==> they are concatenated along the column axis.\n",
    "    cell = tf.contrib.rnn.BasicLSTMCell(num_units=rnn_cell_hidden_dim, \n",
    "                                        forget_bias=forget_bias, state_is_tuple=True, activation=tf.nn.softsign)\n",
    "    if keep_prob < 1.0:\n",
    "        cell = tf.contrib.rnn.DropoutWrapper(cell, output_keep_prob=keep_prob)\n",
    "    return cell\n",
    " \n",
    "# num_stacked_layers개의 층으로 쌓인 Stacked RNNs 생성\n",
    "stackedRNNs = [lstm_cell() for _ in range(num_stacked_layers)]\n",
    "multi_cells = tf.contrib.rnn.MultiRNNCell(stackedRNNs, state_is_tuple=True) if num_stacked_layers > 1 else lstm_cell()\n",
    " \n",
    "# RNN Cell(여기서는 LSTM셀임)들을 연결\n",
    "hypothesis, _states = tf.nn.dynamic_rnn(multi_cells, X, dtype=tf.float32)\n",
    "print(\"hypothesis: \", hypothesis)\n",
    " \n",
    "# [:, -1]를 잘 살펴보자. LSTM RNN의 마지막 (hidden)출력만을 사용했다.\n",
    "# 과거 여러 거래일의 주가를 이용해서 다음날의 주가 1개를 예측하기때문에 MANY-TO-ONE형태이다\n",
    "hypothesis = tf.contrib.layers.fully_connected(hypothesis[:, -1], output_data_column_cnt, activation_fn=tf.identity)\n",
    " "
   ]
  },
  {
   "cell_type": "code",
   "execution_count": 22,
   "metadata": {
    "collapsed": true
   },
   "outputs": [],
   "source": [
    "\n",
    "# 손실함수로 평균제곱오차를 사용한다\n",
    "loss = tf.reduce_sum(tf.square(hypothesis - Y))\n",
    "# 최적화함수로 AdamOptimizer를 사용한다\n",
    "optimizer = tf.train.AdamOptimizer(learning_rate)\n",
    "# optimizer = tf.train.RMSPropOptimizer(learning_rate) # LSTM과 궁합 별로임\n",
    " \n",
    "train = optimizer.minimize(loss)\n",
    " \n",
    "# RMSE(Root Mean Square Error)\n",
    "# 제곱오차의 평균을 구하고 다시 제곱근을 구하면 평균 오차가 나온다\n",
    "# rmse = tf.sqrt(tf.reduce_mean(tf.square(targets-predictions))) # 아래 코드와 같다\n",
    "rmse = tf.sqrt(tf.reduce_mean(tf.squared_difference(targets, predictions)))\n",
    " \n",
    " \n",
    "train_error_summary = [] # 학습용 데이터의 오류를 중간 중간 기록한다\n",
    "test_error_summary = []  # 테스트용 데이터의 오류를 중간 중간 기록한다\n",
    "test_predict = ''        # 테스트용데이터로 예측한 결과\n",
    " \n",
    "sess = tf.Session()\n",
    "sess.run(tf.global_variables_initializer())"
   ]
  },
  {
   "cell_type": "code",
   "execution_count": 23,
   "metadata": {},
   "outputs": [
    {
     "name": "stdout",
     "output_type": "stream",
     "text": [
      "학습을 시작합니다...\n",
      "epoch: 100, train_error(A): 0.021195150911808014, test_error(B): 0.022614551708102226, B-A: 0.0014194007962942123\n",
      "epoch: 200, train_error(A): 0.019932111725211143, test_error(B): 0.02294357679784298, B-A: 0.003011465072631836\n",
      "epoch: 300, train_error(A): 0.018678663298487663, test_error(B): 0.021906308829784393, B-A: 0.00322764553129673\n",
      "epoch: 400, train_error(A): 0.017346365377306938, test_error(B): 0.01945054531097412, B-A: 0.002104179933667183\n",
      "epoch: 500, train_error(A): 0.024367501959204674, test_error(B): 0.015299188904464245, B-A: -0.009068313054740429\n",
      "epoch: 600, train_error(A): 0.017302418127655983, test_error(B): 0.021246058866381645, B-A: 0.003943640738725662\n",
      "epoch: 700, train_error(A): 0.016432859003543854, test_error(B): 0.01980201154947281, B-A: 0.003369152545928955\n",
      "epoch: 800, train_error(A): 0.015659628435969353, test_error(B): 0.017817804589867592, B-A: 0.002158176153898239\n",
      "epoch: 900, train_error(A): 0.014938635751605034, test_error(B): 0.015118526294827461, B-A: 0.00017989054322242737\n",
      "epoch: 1000, train_error(A): 0.014290201477706432, test_error(B): 0.011633296497166157, B-A: -0.0026569049805402756\n",
      "elapsed_time: 0:02:00.465968\n",
      "elapsed_time per epoch: 0:00:00.120466\n",
      "input_data_column_cnt: 6,output_data_column_cnt: 1,seq_length: 28,rnn_cell_hidden_dim: 20,forget_bias: 1.0,num_stacked_layers: 1,keep_prob: 1.0,epoch_num: 1000,learning_rate: 0.01,train_error: 0.0142902,test_error: 0.0116333,min_test_error: 0.0116333\n"
     ]
    }
   ],
   "source": [
    "\n",
    "# 학습한다\n",
    "start_time = datetime.datetime.now() # 시작시간을 기록한다\n",
    "print('학습을 시작합니다...')\n",
    "for epoch in range(epoch_num):\n",
    "    _, _loss = sess.run([train, loss], feed_dict={X: trainX, Y: trainY})\n",
    "    if ((epoch+1) % 100 == 0) or (epoch == epoch_num-1): # 100번째마다 또는 마지막 epoch인 경우\n",
    "        # 학습용데이터로 rmse오차를 구한다\n",
    "        train_predict = sess.run(hypothesis, feed_dict={X: trainX})\n",
    "        train_error = sess.run(rmse, feed_dict={targets: trainY, predictions: train_predict})\n",
    "        train_error_summary.append(train_error)\n",
    " \n",
    "        # 테스트용데이터로 rmse오차를 구한다\n",
    "        test_predict = sess.run(hypothesis, feed_dict={X: testX})\n",
    "        test_error = sess.run(rmse, feed_dict={targets: testY, predictions: test_predict})\n",
    "        test_error_summary.append(test_error)\n",
    "        \n",
    "        # 현재 오류를 출력한다\n",
    "        print(\"epoch: {}, train_error(A): {}, test_error(B): {}, B-A: {}\".format(epoch+1, train_error, test_error, test_error-train_error))\n",
    "        \n",
    "end_time = datetime.datetime.now() # 종료시간을 기록한다\n",
    "elapsed_time = end_time - start_time # 경과시간을 구한다\n",
    "print('elapsed_time:',elapsed_time)\n",
    "print('elapsed_time per epoch:',elapsed_time/epoch_num)\n",
    " \n",
    " \n",
    "# 하이퍼파라미터 출력\n",
    "print('input_data_column_cnt:', input_data_column_cnt, end='')\n",
    "print(',output_data_column_cnt:', output_data_column_cnt, end='')\n",
    " \n",
    "print(',seq_length:', seq_length, end='')\n",
    "print(',rnn_cell_hidden_dim:', rnn_cell_hidden_dim, end='')\n",
    "print(',forget_bias:', forget_bias, end='')\n",
    "print(',num_stacked_layers:', num_stacked_layers, end='')\n",
    "print(',keep_prob:', keep_prob, end='')\n",
    " \n",
    "print(',epoch_num:', epoch_num, end='')\n",
    "print(',learning_rate:', learning_rate, end='')\n",
    " \n",
    "print(',train_error:', train_error_summary[-1], end='')\n",
    "print(',test_error:', test_error_summary[-1], end='')\n",
    "print(',min_test_error:', np.min(test_error_summary))"
   ]
  },
  {
   "cell_type": "code",
   "execution_count": 24,
   "metadata": {},
   "outputs": [
    {
     "data": {
      "image/png": "[encoded data removed]",
      "text/plain": [
       "<Figure size 432x288 with 1 Axes>"
      ]
     },
     "metadata": {},
     "output_type": "display_data"
    },
    {
     "data": {
      "image/png": "[encoded data removed]",
      "text/plain": [
       "<Figure size 432x288 with 1 Axes>"
      ]
     },
     "metadata": {},
     "output_type": "display_data"
    }
   ],
   "source": [
    "\n",
    "# 결과 그래프 출력\n",
    "plt.figure(1)\n",
    "plt.plot(train_error_summary, 'gold')\n",
    "plt.plot(test_error_summary, 'b')\n",
    "plt.xlabel('Epoch(x100)')\n",
    "plt.ylabel('Root Mean Square Error')\n",
    " \n",
    "plt.figure(2)\n",
    "plt.plot(testY, 'r')\n",
    "plt.plot(test_predict, 'b')\n",
    "plt.xlabel('Time Period')\n",
    "plt.ylabel('Stock Price')\n",
    "plt.show()"
   ]
  },
  {
   "cell_type": "code",
   "execution_count": 25,
   "metadata": {},
   "outputs": [
    {
     "name": "stdout",
     "output_type": "stream",
     "text": [
      "recent_data.shape: (1, 28, 6)\n",
      "recent_data: [[[ 0.30232717  0.30660134  0.28950466  0.29092938  0.28523803  0.06243261]\n",
      "  [ 0.28523049  0.28523049  0.26599672  0.27169561  0.26623959  0.11777414]\n",
      "  [ 0.26742144  0.2738327   0.26599672  0.27027089  0.26483229  0.05850012]\n",
      "  [ 0.26742144  0.27027089  0.26172255  0.26599672  0.26061043  0.03618911]\n",
      "  [ 0.26029783  0.26670908  0.25744838  0.26243491  0.2570922   0.03193741]\n",
      "  [ 0.27098325  0.27668215  0.26528436  0.26670908  0.26670908  0.03967868]\n",
      "  [ 0.26955853  0.27810687  0.2681338   0.26955853  0.26955853  0.03276292]\n",
      "  [ 0.27668215  0.2830934   0.27240797  0.27312034  0.27312034  0.04010137]\n",
      "  [ 0.27525742  0.28238104  0.2681338   0.2738327   0.2738327   0.04261929]\n",
      "  [ 0.27454506  0.27739451  0.26101019  0.26884617  0.26884617  0.04244579]\n",
      "  [ 0.27525742  0.28665521  0.27240797  0.2830934   0.2830934   0.04653972]\n",
      "  [ 0.27953159  0.27953159  0.26172255  0.26670908  0.26670908  0.09436812]\n",
      "  [ 0.26528436  0.27953159  0.264572    0.27596978  0.27596978  0.06699153]\n",
      "  [ 0.27525742  0.29591591  0.27240797  0.29306647  0.29306647  0.07511735]\n",
      "  [ 0.29377883  0.29947772  0.29021702  0.29591591  0.29591591  0.04239504]\n",
      "  [ 0.29591591  0.29876536  0.28879229  0.29520355  0.29520355  0.02830114]\n",
      "  [ 0.29306647  0.29947772  0.29092938  0.29449119  0.29449119  0.03950166]\n",
      "  [ 0.29591591  0.3073137   0.29591591  0.29947772  0.29947772  0.03983067]\n",
      "  [ 0.30161481  0.3073137   0.29591591  0.29662827  0.29662827  0.03298125]\n",
      "  [ 0.30161481  0.30517661  0.298053    0.30303953  0.30303953  0.03445589]\n",
      "  [ 0.30802606  0.31087551  0.29449119  0.29876536  0.29876536  0.04333856]\n",
      "  [ 0.29876536  0.30232717  0.28238104  0.28523049  0.28523049  0.0702947 ]\n",
      "  [ 0.28451812  0.29377883  0.28380576  0.29021702  0.29021702  0.04143121]\n",
      "  [ 0.28950466  0.29449119  0.28736757  0.29021702  0.29021702  0.04375357]\n",
      "  [ 0.29021702  0.32298566  0.29021702  0.32084857  0.32084857  0.12332431]\n",
      "  [ 0.32156093  0.3258351   0.3073137   0.30802606  0.30802606  0.05708801]\n",
      "  [ 0.30588898  0.30588898  0.29734064  0.30588898  0.30588898  0.05958132]\n",
      "  [ 0.31016315  0.31372496  0.30161481  0.3073137   0.3073137   0.0581838 ]]]\n",
      "test_predict [ 0.30111557]\n",
      "Tomorrow's stock price [ 66729.921875]\n"
     ]
    }
   ],
   "source": [
    "\n",
    " \n",
    "# sequence length만큼의 가장 최근 데이터를 슬라이싱한다\n",
    "recent_data = np.array([x[len(x)-seq_length : ]])\n",
    "print(\"recent_data.shape:\", recent_data.shape)\n",
    "print(\"recent_data:\", recent_data)\n",
    " \n",
    "# 내일 종가를 예측해본다\n",
    "test_predict = sess.run(hypothesis, feed_dict={X: recent_data})\n",
    " \n",
    "print(\"test_predict\", test_predict[0])\n",
    "test_predict = reverse_min_max_scaling(price,test_predict) # 금액데이터 역정규화한다\n",
    "print(\"Tomorrow's stock price\", test_predict[0]) # 예측한 주가를 출력한다"
   ]
  },
  {
   "cell_type": "code",
   "execution_count": 26,
   "metadata": {
    "collapsed": true
   },
   "outputs": [],
   "source": [
    "#LG 2019-01-31\n",
    "#실제값 68100 68400 66200 66600 66600\n",
    "#예상값 66729 "
   ]
  }
 ],
 "metadata": {
  "kernelspec": {
   "display_name": "Python [conda env:tensorflow]",
   "language": "python",
   "name": "conda-env-tensorflow-py"
  },
  "language_info": {
   "codemirror_mode": {
    "name": "ipython",
    "version": 3
   },
   "file_extension": ".py",
   "mimetype": "text/x-python",
   "name": "python",
   "nbconvert_exporter": "python",
   "pygments_lexer": "ipython3",
   "version": "3.6.2"
  }
 },
 "nbformat": 4,
 "nbformat_minor": 2
}
